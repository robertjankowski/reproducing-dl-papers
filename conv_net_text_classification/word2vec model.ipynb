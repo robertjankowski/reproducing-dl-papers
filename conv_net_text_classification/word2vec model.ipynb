{
 "cells": [
  {
   "cell_type": "code",
   "execution_count": 1,
   "metadata": {},
   "outputs": [],
   "source": [
    "import tensorflow as tf\n",
    "import numpy as np\n",
    "import pandas as pd\n",
    "import matplotlib.pyplot as plt\n",
    "\n",
    "import os\n",
    "\n",
    "from IPython import display"
   ]
  },
  {
   "cell_type": "code",
   "execution_count": 2,
   "metadata": {},
   "outputs": [
    {
     "data": {
      "text/html": [
       "<div>\n",
       "<style scoped>\n",
       "    .dataframe tbody tr th:only-of-type {\n",
       "        vertical-align: middle;\n",
       "    }\n",
       "\n",
       "    .dataframe tbody tr th {\n",
       "        vertical-align: top;\n",
       "    }\n",
       "\n",
       "    .dataframe thead th {\n",
       "        text-align: right;\n",
       "    }\n",
       "</style>\n",
       "<table border=\"1\" class=\"dataframe\">\n",
       "  <thead>\n",
       "    <tr style=\"text-align: right;\">\n",
       "      <th></th>\n",
       "      <th>review</th>\n",
       "      <th>sentiment</th>\n",
       "    </tr>\n",
       "  </thead>\n",
       "  <tbody>\n",
       "    <tr>\n",
       "      <th>0</th>\n",
       "      <td>the rock is destined to be the 21st century's ...</td>\n",
       "      <td>1</td>\n",
       "    </tr>\n",
       "    <tr>\n",
       "      <th>1</th>\n",
       "      <td>the gorgeously elaborate continuation of \" the...</td>\n",
       "      <td>1</td>\n",
       "    </tr>\n",
       "    <tr>\n",
       "      <th>2</th>\n",
       "      <td>effective but too-tepid biopic</td>\n",
       "      <td>1</td>\n",
       "    </tr>\n",
       "    <tr>\n",
       "      <th>3</th>\n",
       "      <td>if you sometimes like to go to the movies to h...</td>\n",
       "      <td>1</td>\n",
       "    </tr>\n",
       "    <tr>\n",
       "      <th>4</th>\n",
       "      <td>emerges as something rare , an issue movie tha...</td>\n",
       "      <td>1</td>\n",
       "    </tr>\n",
       "  </tbody>\n",
       "</table>\n",
       "</div>"
      ],
      "text/plain": [
       "                                              review  sentiment\n",
       "0  the rock is destined to be the 21st century's ...          1\n",
       "1  the gorgeously elaborate continuation of \" the...          1\n",
       "2                     effective but too-tepid biopic          1\n",
       "3  if you sometimes like to go to the movies to h...          1\n",
       "4  emerges as something rare , an issue movie tha...          1"
      ]
     },
     "execution_count": 2,
     "metadata": {},
     "output_type": "execute_result"
    }
   ],
   "source": [
    "path = \"rt-polaritydata/rt-polaritydata/\"\n",
    "\n",
    "pos_path = os.path.join(path, 'rt-polarity.pos')\n",
    "neg_path = os.path.join(path, 'rt-polarity.neg')\n",
    "\n",
    "def load_review(path, is_pos=True):\n",
    "    with open(path) as f:\n",
    "        review = pd.DataFrame({'review':f.read().splitlines()})\n",
    "    review['sentiment'] = 1 if is_pos else 0\n",
    "    return review\n",
    "\n",
    "pos_review = load_review(pos_path, is_pos=True)\n",
    "neg_review = load_review(neg_path, is_pos=False)\n",
    "\n",
    "all_reviews = pd.concat([pos_review, neg_review])\n",
    "all_reviews.head()"
   ]
  },
  {
   "cell_type": "code",
   "execution_count": 3,
   "metadata": {},
   "outputs": [],
   "source": [
    "from gensim.models import KeyedVectors\n",
    "\n",
    "word2vec_model = KeyedVectors.load_word2vec_format(\"GoogleNews-vectors-negative300.bin/GoogleNews-vectors-negative300.bin\", binary=True)"
   ]
  },
  {
   "cell_type": "markdown",
   "metadata": {},
   "source": [
    "#### Sentence is represented as sum of each word's vector"
   ]
  },
  {
   "cell_type": "code",
   "execution_count": 34,
   "metadata": {},
   "outputs": [],
   "source": [
    "from stop_words import get_stop_words\n",
    "\n",
    "MAX_WORDS = 25\n",
    "EMBEDDING_SIZE = 300\n",
    "\n",
    "def process_review(review, max_words=MAX_WORDS):\n",
    "    review = tf.keras.preprocessing.text.text_to_word_sequence(review)\n",
    "    review = [word for word in review if word not in get_stop_words('english')]\n",
    "    review_ = []\n",
    "    for r in review:\n",
    "        try:\n",
    "            review_.append(word2vec_model[r])\n",
    "        except KeyError:\n",
    "            pass # word not found in the model\n",
    "    review_ = review_[:max_words]\n",
    "    return np.sum(np.asarray(review_), axis=0) "
   ]
  },
  {
   "cell_type": "code",
   "execution_count": 35,
   "metadata": {},
   "outputs": [],
   "source": [
    "processed_review = all_reviews.review.apply(lambda review: process_review(review))"
   ]
  },
  {
   "cell_type": "code",
   "execution_count": 36,
   "metadata": {},
   "outputs": [],
   "source": [
    "from sklearn.model_selection import train_test_split\n",
    "\n",
    "X = np.asarray(processed_review).flatten()\n",
    "X_reshaped = np.zeros([len(X), X[0].shape[0]])\n",
    "for i in range(len(X)):\n",
    "    X_reshaped[i, :] = X[i]\n",
    "y = all_reviews.sentiment.values\n",
    "\n",
    "X_train, X_test, y_train, y_test = train_test_split(X_reshaped, y, test_size=0.1, random_state=42)"
   ]
  },
  {
   "cell_type": "code",
   "execution_count": 37,
   "metadata": {},
   "outputs": [
    {
     "data": {
      "text/plain": [
       "((9595, 300), (1067, 300), (9595,), (1067,))"
      ]
     },
     "execution_count": 37,
     "metadata": {},
     "output_type": "execute_result"
    }
   ],
   "source": [
    "X_train.shape, X_test.shape, y_train.shape, y_test.shape"
   ]
  },
  {
   "cell_type": "code",
   "execution_count": 38,
   "metadata": {},
   "outputs": [],
   "source": [
    "model = tf.keras.Sequential([\n",
    "    tf.keras.layers.Dense(256, activation='relu', input_shape=(EMBEDDING_SIZE,)),\n",
    "    tf.keras.layers.Dropout(0.2),\n",
    "    tf.keras.layers.Dense(128, activation='relu', input_shape=(EMBEDDING_SIZE,)),\n",
    "    tf.keras.layers.Dropout(0.2),\n",
    "    tf.keras.layers.Dense(64, activation='relu'),\n",
    "    tf.keras.layers.Dense(32, activation='relu'),\n",
    "    tf.keras.layers.Dense(1, activation='sigmoid')\n",
    "])"
   ]
  },
  {
   "cell_type": "code",
   "execution_count": 39,
   "metadata": {},
   "outputs": [],
   "source": [
    "model.compile(optimizer='adam', loss='binary_crossentropy', metrics=['accuracy'])"
   ]
  },
  {
   "cell_type": "code",
   "execution_count": 40,
   "metadata": {},
   "outputs": [
    {
     "name": "stdout",
     "output_type": "stream",
     "text": [
      "Model: \"sequential_4\"\n",
      "_________________________________________________________________\n",
      "Layer (type)                 Output Shape              Param #   \n",
      "=================================================================\n",
      "dense_15 (Dense)             (None, 256)               77056     \n",
      "_________________________________________________________________\n",
      "dropout_4 (Dropout)          (None, 256)               0         \n",
      "_________________________________________________________________\n",
      "dense_16 (Dense)             (None, 128)               32896     \n",
      "_________________________________________________________________\n",
      "dropout_5 (Dropout)          (None, 128)               0         \n",
      "_________________________________________________________________\n",
      "dense_17 (Dense)             (None, 64)                8256      \n",
      "_________________________________________________________________\n",
      "dense_18 (Dense)             (None, 32)                2080      \n",
      "_________________________________________________________________\n",
      "dense_19 (Dense)             (None, 1)                 33        \n",
      "=================================================================\n",
      "Total params: 120,321\n",
      "Trainable params: 120,321\n",
      "Non-trainable params: 0\n",
      "_________________________________________________________________\n"
     ]
    }
   ],
   "source": [
    "model.summary()"
   ]
  },
  {
   "cell_type": "code",
   "execution_count": 41,
   "metadata": {},
   "outputs": [
    {
     "name": "stdout",
     "output_type": "stream",
     "text": [
      "Train on 9595 samples, validate on 1067 samples\n",
      "Epoch 1/20\n",
      "9595/9595 [==============================] - 1s 108us/sample - loss: 0.6015 - accuracy: 0.6705 - val_loss: 0.5281 - val_accuracy: 0.7301\n",
      "Epoch 2/20\n",
      "9595/9595 [==============================] - 0s 26us/sample - loss: 0.5077 - accuracy: 0.7623 - val_loss: 0.5049 - val_accuracy: 0.7507\n",
      "Epoch 3/20\n",
      "9595/9595 [==============================] - 0s 26us/sample - loss: 0.4768 - accuracy: 0.7736 - val_loss: 0.5020 - val_accuracy: 0.7441\n",
      "Epoch 4/20\n",
      "9595/9595 [==============================] - 0s 30us/sample - loss: 0.4651 - accuracy: 0.7808 - val_loss: 0.5104 - val_accuracy: 0.7460\n",
      "Epoch 5/20\n",
      "9595/9595 [==============================] - 0s 25us/sample - loss: 0.4382 - accuracy: 0.7991 - val_loss: 0.4829 - val_accuracy: 0.7601\n",
      "Epoch 6/20\n",
      "9595/9595 [==============================] - 0s 25us/sample - loss: 0.4190 - accuracy: 0.8032 - val_loss: 0.4930 - val_accuracy: 0.7573\n",
      "Epoch 7/20\n",
      "9595/9595 [==============================] - 0s 25us/sample - loss: 0.3912 - accuracy: 0.8230 - val_loss: 0.5051 - val_accuracy: 0.7638\n",
      "Epoch 8/20\n",
      "9595/9595 [==============================] - 0s 27us/sample - loss: 0.3628 - accuracy: 0.8410 - val_loss: 0.5402 - val_accuracy: 0.7535\n",
      "Epoch 9/20\n",
      "9595/9595 [==============================] - 0s 26us/sample - loss: 0.3336 - accuracy: 0.8525 - val_loss: 0.5525 - val_accuracy: 0.7432\n",
      "Epoch 10/20\n",
      "9595/9595 [==============================] - 0s 25us/sample - loss: 0.2951 - accuracy: 0.8718 - val_loss: 0.5647 - val_accuracy: 0.7507\n",
      "Epoch 11/20\n",
      "9595/9595 [==============================] - 0s 25us/sample - loss: 0.2698 - accuracy: 0.8835 - val_loss: 0.5871 - val_accuracy: 0.7366\n",
      "Epoch 12/20\n",
      "9595/9595 [==============================] - 0s 26us/sample - loss: 0.2371 - accuracy: 0.9026 - val_loss: 0.6155 - val_accuracy: 0.7488\n",
      "Epoch 13/20\n",
      "9595/9595 [==============================] - 0s 26us/sample - loss: 0.2149 - accuracy: 0.9122 - val_loss: 0.6818 - val_accuracy: 0.7441\n",
      "Epoch 14/20\n",
      "9595/9595 [==============================] - 0s 25us/sample - loss: 0.1906 - accuracy: 0.9244 - val_loss: 0.7180 - val_accuracy: 0.7488\n",
      "Epoch 15/20\n",
      "9595/9595 [==============================] - 0s 25us/sample - loss: 0.1743 - accuracy: 0.9323 - val_loss: 0.7512 - val_accuracy: 0.7338\n",
      "Epoch 16/20\n",
      "9595/9595 [==============================] - 0s 25us/sample - loss: 0.1523 - accuracy: 0.9414 - val_loss: 0.8036 - val_accuracy: 0.7395\n",
      "Epoch 17/20\n",
      "9595/9595 [==============================] - 0s 25us/sample - loss: 0.1292 - accuracy: 0.9477 - val_loss: 0.9396 - val_accuracy: 0.7338\n",
      "Epoch 18/20\n",
      "9595/9595 [==============================] - 0s 24us/sample - loss: 0.1143 - accuracy: 0.9545 - val_loss: 0.9998 - val_accuracy: 0.7291\n",
      "Epoch 19/20\n",
      "9595/9595 [==============================] - 0s 29us/sample - loss: 0.1171 - accuracy: 0.9564 - val_loss: 0.9380 - val_accuracy: 0.7432\n",
      "Epoch 20/20\n",
      "9595/9595 [==============================] - ETA: 0s - loss: 0.1031 - accuracy: 0.96 - 0s 24us/sample - loss: 0.1038 - accuracy: 0.9610 - val_loss: 1.0107 - val_accuracy: 0.7451\n"
     ]
    }
   ],
   "source": [
    "EPOCH = 20\n",
    "BATCH_SIZE = 256\n",
    "\n",
    "history = model.fit(X_train, \n",
    "                    y_train, \n",
    "                    epochs=EPOCH, \n",
    "                    batch_size=BATCH_SIZE,\n",
    "                    validation_data=(X_test, y_test))"
   ]
  },
  {
   "cell_type": "code",
   "execution_count": 47,
   "metadata": {},
   "outputs": [],
   "source": [
    "def predict(review, max_words=MAX_WORDS, shape=(EMBEDDING_SIZE,)):\n",
    "    input_ = [p for p in process_review(review, max_words=max_words)]\n",
    "    input_ = tf.cast(input_, tf.float32)\n",
    "    input_ = tf.reshape(input_, shape)\n",
    "    input_ = input_[np.newaxis, ...]\n",
    "    prediction = model.predict(input_)[0][0]\n",
    "    print(prediction)\n",
    "    if prediction > 0.5:\n",
    "        print('Positive review with probability: {:.2f}%'.format(prediction * 100))\n",
    "    else:\n",
    "        print('Negative review with probability: {:.2f}%'.format(100 - prediction * 100))"
   ]
  },
  {
   "cell_type": "code",
   "execution_count": 48,
   "metadata": {},
   "outputs": [
    {
     "name": "stdout",
     "output_type": "stream",
     "text": [
      "0.73616076\n",
      "Positive review with probability: 73.62%\n"
     ]
    }
   ],
   "source": [
    "predict(\"this film was quite good\")"
   ]
  },
  {
   "cell_type": "code",
   "execution_count": null,
   "metadata": {},
   "outputs": [],
   "source": []
  }
 ],
 "metadata": {
  "kernelspec": {
   "display_name": "Python 3",
   "language": "python",
   "name": "python3"
  },
  "language_info": {
   "codemirror_mode": {
    "name": "ipython",
    "version": 3
   },
   "file_extension": ".py",
   "mimetype": "text/x-python",
   "name": "python",
   "nbconvert_exporter": "python",
   "pygments_lexer": "ipython3",
   "version": "3.7.4"
  }
 },
 "nbformat": 4,
 "nbformat_minor": 4
}
