{
 "cells": [
  {
   "cell_type": "code",
   "execution_count": 1,
   "metadata": {},
   "outputs": [],
   "source": [
    "import tensorflow as tf\n",
    "import numpy as np\n",
    "import pandas as pd\n",
    "import matplotlib.pyplot as plt\n",
    "\n",
    "import os\n",
    "\n",
    "from IPython import display"
   ]
  },
  {
   "cell_type": "code",
   "execution_count": 2,
   "metadata": {},
   "outputs": [
    {
     "data": {
      "text/html": [
       "<div>\n",
       "<style scoped>\n",
       "    .dataframe tbody tr th:only-of-type {\n",
       "        vertical-align: middle;\n",
       "    }\n",
       "\n",
       "    .dataframe tbody tr th {\n",
       "        vertical-align: top;\n",
       "    }\n",
       "\n",
       "    .dataframe thead th {\n",
       "        text-align: right;\n",
       "    }\n",
       "</style>\n",
       "<table border=\"1\" class=\"dataframe\">\n",
       "  <thead>\n",
       "    <tr style=\"text-align: right;\">\n",
       "      <th></th>\n",
       "      <th>review</th>\n",
       "      <th>sentiment</th>\n",
       "    </tr>\n",
       "  </thead>\n",
       "  <tbody>\n",
       "    <tr>\n",
       "      <th>0</th>\n",
       "      <td>the rock is destined to be the 21st century's ...</td>\n",
       "      <td>1</td>\n",
       "    </tr>\n",
       "    <tr>\n",
       "      <th>1</th>\n",
       "      <td>the gorgeously elaborate continuation of \" the...</td>\n",
       "      <td>1</td>\n",
       "    </tr>\n",
       "    <tr>\n",
       "      <th>2</th>\n",
       "      <td>effective but too-tepid biopic</td>\n",
       "      <td>1</td>\n",
       "    </tr>\n",
       "    <tr>\n",
       "      <th>3</th>\n",
       "      <td>if you sometimes like to go to the movies to h...</td>\n",
       "      <td>1</td>\n",
       "    </tr>\n",
       "    <tr>\n",
       "      <th>4</th>\n",
       "      <td>emerges as something rare , an issue movie tha...</td>\n",
       "      <td>1</td>\n",
       "    </tr>\n",
       "  </tbody>\n",
       "</table>\n",
       "</div>"
      ],
      "text/plain": [
       "                                              review  sentiment\n",
       "0  the rock is destined to be the 21st century's ...          1\n",
       "1  the gorgeously elaborate continuation of \" the...          1\n",
       "2                     effective but too-tepid biopic          1\n",
       "3  if you sometimes like to go to the movies to h...          1\n",
       "4  emerges as something rare , an issue movie tha...          1"
      ]
     },
     "execution_count": 2,
     "metadata": {},
     "output_type": "execute_result"
    }
   ],
   "source": [
    "path = \"rt-polaritydata/rt-polaritydata/\"\n",
    "\n",
    "pos_path = os.path.join(path, 'rt-polarity.pos')\n",
    "neg_path = os.path.join(path, 'rt-polarity.neg')\n",
    "\n",
    "def load_review(path, is_pos=True):\n",
    "    with open(path) as f:\n",
    "        review = pd.DataFrame({'review':f.read().splitlines()})\n",
    "    review['sentiment'] = 1 if is_pos else 0\n",
    "    return review\n",
    "\n",
    "pos_review = load_review(pos_path, is_pos=True)\n",
    "neg_review = load_review(neg_path, is_pos=False)\n",
    "\n",
    "all_reviews = pd.concat([pos_review, neg_review])\n",
    "all_reviews.head()"
   ]
  },
  {
   "cell_type": "code",
   "execution_count": 3,
   "metadata": {},
   "outputs": [],
   "source": [
    "from gensim.models import KeyedVectors\n",
    "\n",
    "word2vec_model = KeyedVectors.load_word2vec_format(\"GoogleNews-vectors-negative300.bin/GoogleNews-vectors-negative300.bin\", binary=True)"
   ]
  },
  {
   "cell_type": "code",
   "execution_count": 4,
   "metadata": {},
   "outputs": [],
   "source": [
    "from stop_words import get_stop_words\n",
    "\n",
    "MAX_WORDS = 25\n",
    "EMBEDDING_SIZE = 300\n",
    "\n",
    "def process_review_dense(review, max_words=MAX_WORDS):\n",
    "    review = tf.keras.preprocessing.text.text_to_word_sequence(review)\n",
    "    review = [word for word in review if word not in get_stop_words('english')]\n",
    "    review_ = []\n",
    "    for r in review:\n",
    "        try:\n",
    "            review_.append(word2vec_model[r])\n",
    "        except KeyError:\n",
    "            pass # word not found in the model\n",
    "    review_ = review_[:max_words]\n",
    "    return np.sum(np.asarray(review_), axis=0) "
   ]
  },
  {
   "cell_type": "code",
   "execution_count": 5,
   "metadata": {},
   "outputs": [],
   "source": [
    "def process_review_conv(review, max_words=MAX_WORDS):\n",
    "    review = tf.keras.preprocessing.text.text_to_word_sequence(review)\n",
    "    review = [word for word in review if word not in get_stop_words('english')]\n",
    "    review_ = []\n",
    "    for r in review:\n",
    "        try:\n",
    "            review_.append(word2vec_model[r])\n",
    "        except KeyError:\n",
    "            review_.append(np.zeros(EMBEDDING_SIZE,)) # when word does not exists in vocab\n",
    "    while len(review_) < max_words:\n",
    "        review_.append(np.zeros(EMBEDDING_SIZE,))\n",
    "    review_ = review_[:max_words]\n",
    "    return review_"
   ]
  },
  {
   "cell_type": "code",
   "execution_count": 6,
   "metadata": {},
   "outputs": [],
   "source": [
    "processed_review_conv = all_reviews.review.apply(\n",
    "    lambda review: process_review_conv(review))\n",
    "processed_review_dense = all_reviews.review.apply(\n",
    "    lambda review: process_review_dense(review))"
   ]
  },
  {
   "cell_type": "code",
   "execution_count": 7,
   "metadata": {},
   "outputs": [],
   "source": [
    "from sklearn.model_selection import train_test_split\n",
    "\n",
    "X_dense = np.asarray(processed_review_dense).flatten()\n",
    "X_dense_reshaped = np.zeros([len(X_dense), X_dense[0].shape[0]])\n",
    "for i in range(len(X_dense)):\n",
    "    X_dense_reshaped[i, :] = X_dense[i]\n",
    "\n",
    "X_conv = processed_review_conv.to_numpy().tolist()\n",
    "X_conv = tf.convert_to_tensor(X_conv)\n",
    "X_conv_reshaped = tf.reshape(\n",
    "    X_conv, [X_conv.shape[0], X_conv.shape[2], X_conv.shape[1], 1]) # one channel (black or white)\n",
    "\n",
    "\n",
    "y = all_reviews.sentiment.values"
   ]
  },
  {
   "cell_type": "code",
   "execution_count": 8,
   "metadata": {},
   "outputs": [
    {
     "data": {
      "text/plain": [
       "((10662, 300), TensorShape([10662, 300, 25, 1]), (10662,))"
      ]
     },
     "execution_count": 8,
     "metadata": {},
     "output_type": "execute_result"
    }
   ],
   "source": [
    "X_dense_reshaped.shape, X_conv_reshaped.shape, y.shape"
   ]
  },
  {
   "cell_type": "code",
   "execution_count": 73,
   "metadata": {},
   "outputs": [],
   "source": [
    "X_dense_reshaped_tf = tf.convert_to_tensor(X_dense_reshaped)\n",
    "y_tf = tf.convert_to_tensor(y)"
   ]
  },
  {
   "cell_type": "code",
   "execution_count": 74,
   "metadata": {},
   "outputs": [],
   "source": [
    "class ConvDenseTextModel(tf.keras.Model):\n",
    "    def __init__(self, embedding_size=EMBEDDING_SIZE, max_words=MAX_WORDS):\n",
    "        super(ConvDenseTextModel, self).__init__()\n",
    "        self.concat_size = 128\n",
    "        \n",
    "        # convolutional part of the model\n",
    "        self.conv1 = tf.keras.layers.Conv2D(32, (3, 3), activation='relu', input_shape=(embedding_size, max_words, 1))\n",
    "        self.pool1 = tf.keras.layers.MaxPool2D((2, 2))\n",
    "        self.conv2 = tf.keras.layers.Conv2D(64, (3, 3), activation='relu')\n",
    "        self.pool2 = tf.keras.layers.MaxPool2D((2, 2))\n",
    "        self.dense1 = tf.keras.layers.Dense(512, activation='relu')\n",
    "        \n",
    "        # dense part of the model\n",
    "        self.dense2 = tf.keras.layers.Dense(256, activation='relu', input_shape=(embedding_size,))\n",
    "        self.dense3 = tf.keras.layers.Dense(128, activation='relu')\n",
    "        self.dense4 = tf.keras.layers.Dense(64, activation='relu')\n",
    "        \n",
    "        self.concat_layer1 = tf.keras.layers.Dense(10, activation='relu')\n",
    "        self.concat_layer2 = tf.keras.layers.Dense(10, activation='relu')\n",
    "        self.dense5 = tf.keras.layers.Dense(1, activation='sigmoid')\n",
    "        self.dropout = tf.keras.layers.Dropout(0.4)\n",
    "        \n",
    "    def call(self, inputs, training=False):\n",
    "        X_conv, X_dense = inputs\n",
    "        \n",
    "        X_conv = self.conv1(X_conv)\n",
    "        X_conv = self.pool1(X_conv)\n",
    "        X_conv = self.conv2(X_conv)\n",
    "        X_conv = self.pool2(X_conv)\n",
    "        X_conv = tf.keras.layers.Flatten()(X_conv)\n",
    "        if training:\n",
    "            X_conv = self.dropout(X_conv)\n",
    "        X_conv = self.dense1(X_conv)\n",
    "        X_conv = self.concat_layer1(X_conv)\n",
    "        \n",
    "        X_dense = self.dense2(X_dense)\n",
    "        if training:\n",
    "            X_dense = self.dropout(X_dense)\n",
    "        X_dense = self.dense3(X_dense)\n",
    "        if training:\n",
    "            X_dense = self.dropout(X_dense)\n",
    "        X_dense = self.dense4(X_dense)\n",
    "        X_dense = self.concat_layer2(X_dense)\n",
    "        \n",
    "        X = tf.concat([X_conv, X_dense], 0)\n",
    "        return self.dense5(X)"
   ]
  },
  {
   "cell_type": "code",
   "execution_count": 75,
   "metadata": {},
   "outputs": [],
   "source": [
    "model = ConvDenseTextModel()"
   ]
  },
  {
   "cell_type": "code",
   "execution_count": 76,
   "metadata": {},
   "outputs": [],
   "source": [
    "model.compile(loss='binary_crossentropy', optimizer='adam', metrics=['accuracy'])"
   ]
  },
  {
   "cell_type": "code",
   "execution_count": 81,
   "metadata": {},
   "outputs": [
    {
     "name": "stdout",
     "output_type": "stream",
     "text": [
      "Model: \"conv_dense_text_model_13\"\n",
      "_________________________________________________________________\n",
      "Layer (type)                 Output Shape              Param #   \n",
      "=================================================================\n",
      "conv2d_26 (Conv2D)           multiple                  320       \n",
      "_________________________________________________________________\n",
      "max_pooling2d_26 (MaxPooling multiple                  0         \n",
      "_________________________________________________________________\n",
      "conv2d_27 (Conv2D)           multiple                  18496     \n",
      "_________________________________________________________________\n",
      "max_pooling2d_27 (MaxPooling multiple                  0         \n",
      "_________________________________________________________________\n",
      "dense_84 (Dense)             multiple                  9568768   \n",
      "_________________________________________________________________\n",
      "dense_85 (Dense)             multiple                  77056     \n",
      "_________________________________________________________________\n",
      "dense_86 (Dense)             multiple                  32896     \n",
      "_________________________________________________________________\n",
      "dense_87 (Dense)             multiple                  8256      \n",
      "_________________________________________________________________\n",
      "dense_88 (Dense)             multiple                  5130      \n",
      "_________________________________________________________________\n",
      "dense_89 (Dense)             multiple                  650       \n",
      "_________________________________________________________________\n",
      "dense_90 (Dense)             multiple                  11        \n",
      "_________________________________________________________________\n",
      "dropout_13 (Dropout)         multiple                  0         \n",
      "=================================================================\n",
      "Total params: 9,711,583\n",
      "Trainable params: 9,711,583\n",
      "Non-trainable params: 0\n",
      "_________________________________________________________________\n"
     ]
    }
   ],
   "source": [
    "model.summary()"
   ]
  },
  {
   "cell_type": "markdown",
   "metadata": {},
   "source": [
    "# TODO: https://www.tensorflow.org/tutorials/generative/pix2pix\n",
    "Based on that tutorial create tf.keras.Model with custom loss and training loop "
   ]
  },
  {
   "cell_type": "code",
   "execution_count": null,
   "metadata": {},
   "outputs": [],
   "source": [
    "EPOCHS = 10\n",
    "BATCH_SIZE = 128\n",
    "\n",
    "model.fit((X_conv_reshaped, X_dense_reshaped_tf),\n",
    "          y_tf,\n",
    "          epochs=EPOCHS)"
   ]
  },
  {
   "cell_type": "code",
   "execution_count": null,
   "metadata": {},
   "outputs": [],
   "source": []
  }
 ],
 "metadata": {
  "kernelspec": {
   "display_name": "Python 3",
   "language": "python",
   "name": "python3"
  },
  "language_info": {
   "codemirror_mode": {
    "name": "ipython",
    "version": 3
   },
   "file_extension": ".py",
   "mimetype": "text/x-python",
   "name": "python",
   "nbconvert_exporter": "python",
   "pygments_lexer": "ipython3",
   "version": "3.7.3"
  }
 },
 "nbformat": 4,
 "nbformat_minor": 4
}
