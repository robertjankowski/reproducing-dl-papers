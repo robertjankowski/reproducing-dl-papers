{
 "cells": [
  {
   "cell_type": "code",
   "execution_count": 1,
   "metadata": {},
   "outputs": [],
   "source": [
    "import tensorflow as tf\n",
    "import numpy as np\n",
    "import pandas as pd\n",
    "import matplotlib.pyplot as plt\n",
    "\n",
    "import os\n",
    "\n",
    "from IPython import display"
   ]
  },
  {
   "cell_type": "code",
   "execution_count": 2,
   "metadata": {},
   "outputs": [
    {
     "data": {
      "text/html": [
       "<div>\n",
       "<style scoped>\n",
       "    .dataframe tbody tr th:only-of-type {\n",
       "        vertical-align: middle;\n",
       "    }\n",
       "\n",
       "    .dataframe tbody tr th {\n",
       "        vertical-align: top;\n",
       "    }\n",
       "\n",
       "    .dataframe thead th {\n",
       "        text-align: right;\n",
       "    }\n",
       "</style>\n",
       "<table border=\"1\" class=\"dataframe\">\n",
       "  <thead>\n",
       "    <tr style=\"text-align: right;\">\n",
       "      <th></th>\n",
       "      <th>review</th>\n",
       "      <th>sentiment</th>\n",
       "    </tr>\n",
       "  </thead>\n",
       "  <tbody>\n",
       "    <tr>\n",
       "      <th>0</th>\n",
       "      <td>the rock is destined to be the 21st century's ...</td>\n",
       "      <td>1</td>\n",
       "    </tr>\n",
       "    <tr>\n",
       "      <th>1</th>\n",
       "      <td>the gorgeously elaborate continuation of \" the...</td>\n",
       "      <td>1</td>\n",
       "    </tr>\n",
       "    <tr>\n",
       "      <th>2</th>\n",
       "      <td>effective but too-tepid biopic</td>\n",
       "      <td>1</td>\n",
       "    </tr>\n",
       "    <tr>\n",
       "      <th>3</th>\n",
       "      <td>if you sometimes like to go to the movies to h...</td>\n",
       "      <td>1</td>\n",
       "    </tr>\n",
       "    <tr>\n",
       "      <th>4</th>\n",
       "      <td>emerges as something rare , an issue movie tha...</td>\n",
       "      <td>1</td>\n",
       "    </tr>\n",
       "  </tbody>\n",
       "</table>\n",
       "</div>"
      ],
      "text/plain": [
       "                                              review  sentiment\n",
       "0  the rock is destined to be the 21st century's ...          1\n",
       "1  the gorgeously elaborate continuation of \" the...          1\n",
       "2                     effective but too-tepid biopic          1\n",
       "3  if you sometimes like to go to the movies to h...          1\n",
       "4  emerges as something rare , an issue movie tha...          1"
      ]
     },
     "execution_count": 2,
     "metadata": {},
     "output_type": "execute_result"
    }
   ],
   "source": [
    "path = \"rt-polaritydata/rt-polaritydata/\"\n",
    "\n",
    "pos_path = os.path.join(path, 'rt-polarity.pos')\n",
    "neg_path = os.path.join(path, 'rt-polarity.neg')\n",
    "\n",
    "def load_review(path, is_pos=True):\n",
    "    with open(path) as f:\n",
    "        review = pd.DataFrame({'review':f.read().splitlines()})\n",
    "    review['sentiment'] = 1 if is_pos else 0\n",
    "    return review\n",
    "\n",
    "pos_review = load_review(pos_path, is_pos=True)\n",
    "neg_review = load_review(neg_path, is_pos=False)\n",
    "\n",
    "all_reviews = pd.concat([pos_review, neg_review])\n",
    "all_reviews.head()"
   ]
  },
  {
   "cell_type": "code",
   "execution_count": 3,
   "metadata": {},
   "outputs": [],
   "source": [
    "from gensim.models import KeyedVectors\n",
    "\n",
    "word2vec_model = KeyedVectors.load_word2vec_format(\"GoogleNews-vectors-negative300.bin/GoogleNews-vectors-negative300.bin\", binary=True)"
   ]
  },
  {
   "cell_type": "code",
   "execution_count": 4,
   "metadata": {},
   "outputs": [],
   "source": [
    "from stop_words import get_stop_words\n",
    "\n",
    "MAX_WORDS = 25\n",
    "EMBEDDING_SIZE = 300\n",
    "\n",
    "def process_review_dense(review, max_words=MAX_WORDS):\n",
    "    review = tf.keras.preprocessing.text.text_to_word_sequence(review)\n",
    "    review = [word for word in review if word not in get_stop_words('english')]\n",
    "    review_ = []\n",
    "    for r in review:\n",
    "        try:\n",
    "            review_.append(word2vec_model[r])\n",
    "        except KeyError:\n",
    "            pass # word not found in the model\n",
    "    review_ = review_[:max_words]\n",
    "    return np.sum(np.asarray(review_), axis=0) "
   ]
  },
  {
   "cell_type": "code",
   "execution_count": 5,
   "metadata": {},
   "outputs": [],
   "source": [
    "def process_review_conv(review, max_words=MAX_WORDS):\n",
    "    review = tf.keras.preprocessing.text.text_to_word_sequence(review)\n",
    "    review = [word for word in review if word not in get_stop_words('english')]\n",
    "    review_ = []\n",
    "    for r in review:\n",
    "        try:\n",
    "            review_.append(word2vec_model[r])\n",
    "        except KeyError:\n",
    "            review_.append(np.zeros(EMBEDDING_SIZE,)) # when word does not exist in vocab\n",
    "    while len(review_) < max_words:\n",
    "        review_.append(np.zeros(EMBEDDING_SIZE,))\n",
    "    review_ = review_[:max_words]\n",
    "    return review_"
   ]
  },
  {
   "cell_type": "code",
   "execution_count": 6,
   "metadata": {},
   "outputs": [],
   "source": [
    "processed_review_conv = all_reviews.review.apply(\n",
    "    lambda review: process_review_conv(review))\n",
    "processed_review_dense = all_reviews.review.apply(\n",
    "    lambda review: process_review_dense(review))"
   ]
  },
  {
   "cell_type": "code",
   "execution_count": 7,
   "metadata": {},
   "outputs": [],
   "source": [
    "from sklearn.model_selection import train_test_split\n",
    "\n",
    "X_dense = np.asarray(processed_review_dense).flatten()\n",
    "X_dense_reshaped = np.zeros([len(X_dense), X_dense[0].shape[0]])\n",
    "for i in range(len(X_dense)):\n",
    "    X_dense_reshaped[i, :] = X_dense[i]\n",
    "X_dense_reshaped_tf = tf.convert_to_tensor(X_dense_reshaped)\n",
    "\n",
    "X_conv = processed_review_conv.to_numpy().tolist()\n",
    "X_conv = tf.convert_to_tensor(X_conv)\n",
    "X_conv_reshaped = tf.reshape(\n",
    "    X_conv, [X_conv.shape[0], X_conv.shape[2], X_conv.shape[1], 1]) # one channel (black or white)\n",
    "\n",
    "X_conv_reshaped_np = X_conv_reshaped.numpy()\n",
    "\n",
    "y = all_reviews.sentiment.values\n",
    "y_tf = tf.convert_to_tensor(y)"
   ]
  },
  {
   "cell_type": "code",
   "execution_count": 8,
   "metadata": {},
   "outputs": [
    {
     "data": {
      "text/plain": [
       "((10662, 300), TensorShape([10662, 300, 25, 1]), (10662,))"
      ]
     },
     "execution_count": 8,
     "metadata": {},
     "output_type": "execute_result"
    }
   ],
   "source": [
    "X_dense_reshaped.shape, X_conv_reshaped.shape, y.shape"
   ]
  },
  {
   "cell_type": "code",
   "execution_count": 33,
   "metadata": {},
   "outputs": [],
   "source": [
    "X_conv_train, X_conv_test, X_dense_train, X_dense_test, y_train, y_test = train_test_split(X_conv_reshaped_np, X_dense_reshaped, y, random_state=42)"
   ]
  },
  {
   "cell_type": "code",
   "execution_count": 34,
   "metadata": {},
   "outputs": [
    {
     "data": {
      "text/plain": [
       "((7996, 300, 25, 1),\n",
       " (2666, 300, 25, 1),\n",
       " (7996, 300),\n",
       " (2666, 300),\n",
       " (7996,),\n",
       " (2666,))"
      ]
     },
     "execution_count": 34,
     "metadata": {},
     "output_type": "execute_result"
    }
   ],
   "source": [
    "X_conv_train.shape, X_conv_test.shape, X_dense_train.shape, X_dense_test.shape, y_train.shape, y_test.shape"
   ]
  },
  {
   "cell_type": "code",
   "execution_count": 48,
   "metadata": {},
   "outputs": [],
   "source": [
    "class ConvDenseTextModel(tf.keras.Model):\n",
    "    def __init__(self, embedding_size=EMBEDDING_SIZE, max_words=MAX_WORDS):\n",
    "        super(ConvDenseTextModel, self).__init__()\n",
    "        self.concat_size = 128\n",
    "        \n",
    "        # convolutional part of the model\n",
    "        self.conv1 = tf.keras.layers.Conv2D(32, (3, 3), activation='relu', input_shape=(embedding_size, max_words, 1))\n",
    "        self.pool1 = tf.keras.layers.MaxPool2D((2, 2))\n",
    "        self.conv2 = tf.keras.layers.Conv2D(64, (3, 3), activation='relu')\n",
    "        self.pool2 = tf.keras.layers.MaxPool2D((2, 2))\n",
    "        self.dense1 = tf.keras.layers.Dense(512, activation='relu')\n",
    "        \n",
    "        # dense part of the model\n",
    "        self.dense2 = tf.keras.layers.Dense(256, activation='relu', input_shape=(embedding_size,))\n",
    "        self.dense3 = tf.keras.layers.Dense(128, activation='relu')\n",
    "        self.dense4 = tf.keras.layers.Dense(64, activation='relu')\n",
    "        \n",
    "        self.concat_layer1 = tf.keras.layers.Dense(10, activation='relu')\n",
    "        self.concat_layer2 = tf.keras.layers.Dense(10, activation='relu')\n",
    "        self.dense5 = tf.keras.layers.Dense(1, activation='sigmoid')\n",
    "        self.dropout = tf.keras.layers.Dropout(0.4)\n",
    "        \n",
    "    def call(self, inputs, training=False):\n",
    "        X_conv, X_dense = inputs\n",
    "        \n",
    "        X_conv = self.conv1(X_conv)\n",
    "        X_conv = self.pool1(X_conv)\n",
    "        X_conv = self.conv2(X_conv)\n",
    "        X_conv = self.pool2(X_conv)\n",
    "        X_conv = tf.keras.layers.Flatten()(X_conv)\n",
    "        if training:\n",
    "            X_conv = self.dropout(X_conv)\n",
    "        X_conv = self.dense1(X_conv)\n",
    "        X_conv = self.concat_layer1(X_conv)\n",
    "        \n",
    "        X_dense = self.dense2(X_dense)\n",
    "        if training:\n",
    "            X_dense = self.dropout(X_dense)\n",
    "        X_dense = self.dense3(X_dense)\n",
    "        if training:\n",
    "            X_dense = self.dropout(X_dense)\n",
    "        X_dense = self.dense4(X_dense)\n",
    "        X_dense = self.concat_layer2(X_dense)\n",
    "        \n",
    "        X = tf.concat([X_conv, X_dense], axis=1)\n",
    "        return self.dense5(X)"
   ]
  },
  {
   "cell_type": "code",
   "execution_count": 60,
   "metadata": {},
   "outputs": [],
   "source": [
    "model = ConvDenseTextModel()"
   ]
  },
  {
   "cell_type": "code",
   "execution_count": 61,
   "metadata": {},
   "outputs": [],
   "source": [
    "METRICS = [\n",
    "    tf.keras.metrics.Accuracy(name='accuracy'),\n",
    "    tf.keras.metrics.Recall(name='recall'),\n",
    "    tf.keras.metrics.AUC(name='auc'),\n",
    "]\n",
    "model.compile(loss='binary_crossentropy', optimizer='adam', metrics=METRICS)"
   ]
  },
  {
   "cell_type": "code",
   "execution_count": 62,
   "metadata": {
    "collapsed": true,
    "jupyter": {
     "outputs_hidden": true
    }
   },
   "outputs": [
    {
     "name": "stdout",
     "output_type": "stream",
     "text": [
      "Train on 7996 samples, validate on 2666 samples\n",
      "Epoch 1/30\n",
      "7996/7996 [==============================] - 9s 1ms/sample - loss: 0.6052 - accuracy: 0.0000e+00 - recall: 0.6364 - auc: 0.7369 - val_loss: 0.5087 - val_accuracy: 0.0000e+00 - val_recall: 0.8004 - val_auc: 0.8361\n",
      "Epoch 2/30\n",
      "7996/7996 [==============================] - 7s 908us/sample - loss: 0.5138 - accuracy: 0.0000e+00 - recall: 0.7540 - auc: 0.8268 - val_loss: 0.4887 - val_accuracy: 0.0000e+00 - val_recall: 0.7714 - val_auc: 0.8466\n",
      "Epoch 3/30\n",
      "7996/7996 [==============================] - 7s 893us/sample - loss: 0.4822 - accuracy: 0.0000e+00 - recall: 0.7703 - auc: 0.8501 - val_loss: 0.4788 - val_accuracy: 0.0000e+00 - val_recall: 0.7625 - val_auc: 0.8514\n",
      "Epoch 4/30\n",
      "7996/7996 [==============================] - 7s 907us/sample - loss: 0.4668 - accuracy: 0.0000e+00 - recall: 0.7766 - auc: 0.8615 - val_loss: 0.4830 - val_accuracy: 0.0000e+00 - val_recall: 0.7416 - val_auc: 0.8502\n",
      "Epoch 5/30\n",
      "7996/7996 [==============================] - 7s 898us/sample - loss: 0.4428 - accuracy: 0.0000e+00 - recall: 0.7849 - auc: 0.8751 - val_loss: 0.4816 - val_accuracy: 0.0000e+00 - val_recall: 0.7453 - val_auc: 0.8504\n",
      "Epoch 6/30\n",
      "7996/7996 [==============================] - 7s 894us/sample - loss: 0.4216 - accuracy: 2.5013e-04 - recall: 0.7991 - auc: 0.8870 - val_loss: 0.4834 - val_accuracy: 0.0000e+00 - val_recall: 0.7364 - val_auc: 0.8558\n",
      "Epoch 7/30\n",
      "7996/7996 [==============================] - 7s 898us/sample - loss: 0.3973 - accuracy: 0.0000e+00 - recall: 0.8147 - auc: 0.9010 - val_loss: 0.4990 - val_accuracy: 0.0000e+00 - val_recall: 0.8310 - val_auc: 0.8517\n",
      "Epoch 8/30\n",
      "7996/7996 [==============================] - 7s 902us/sample - loss: 0.3702 - accuracy: 0.0000e+00 - recall: 0.8225 - auc: 0.9145 - val_loss: 0.4873 - val_accuracy: 0.0000e+00 - val_recall: 0.7759 - val_auc: 0.8534\n",
      "Epoch 9/30\n",
      "7996/7996 [==============================] - 7s 895us/sample - loss: 0.3335 - accuracy: 2.5013e-04 - recall: 0.8463 - auc: 0.9316 - val_loss: 0.5216 - val_accuracy: 0.0000e+00 - val_recall: 0.7610 - val_auc: 0.8476\n",
      "Epoch 10/30\n",
      "7996/7996 [==============================] - 7s 882us/sample - loss: 0.2947 - accuracy: 0.0013 - recall: 0.8694 - auc: 0.9469 - val_loss: 0.5580 - val_accuracy: 0.0000e+00 - val_recall: 0.7081 - val_auc: 0.8394\n",
      "Epoch 11/30\n",
      "7996/7996 [==============================] - 7s 890us/sample - loss: 0.2512 - accuracy: 0.0025 - recall: 0.8884 - auc: 0.9615 - val_loss: 0.5907 - val_accuracy: 3.7509e-04 - val_recall: 0.6880 - val_auc: 0.8426\n",
      "Epoch 12/30\n",
      "7996/7996 [==============================] - 7s 890us/sample - loss: 0.2292 - accuracy: 0.0033 - recall: 0.8994 - auc: 0.9680 - val_loss: 0.6091 - val_accuracy: 7.5019e-04 - val_recall: 0.7640 - val_auc: 0.8410\n",
      "Epoch 13/30\n",
      "7996/7996 [==============================] - 7s 900us/sample - loss: 0.1878 - accuracy: 0.0061 - recall: 0.9248 - auc: 0.9785 - val_loss: 0.6383 - val_accuracy: 0.0019 - val_recall: 0.7766 - val_auc: 0.8355\n",
      "Epoch 14/30\n",
      "7996/7996 [==============================] - 7s 900us/sample - loss: 0.1616 - accuracy: 0.0074 - recall: 0.9338 - auc: 0.9840 - val_loss: 0.7740 - val_accuracy: 0.0038 - val_recall: 0.6612 - val_auc: 0.8283\n",
      "Epoch 15/30\n",
      "7996/7996 [==============================] - 7s 890us/sample - loss: 0.1457 - accuracy: 0.0139 - recall: 0.9406 - auc: 0.9870 - val_loss: 0.7662 - val_accuracy: 0.0064 - val_recall: 0.6895 - val_auc: 0.8260\n",
      "Epoch 16/30\n",
      "7996/7996 [==============================] - 7s 920us/sample - loss: 0.1124 - accuracy: 0.0221 - recall: 0.9536 - auc: 0.9921 - val_loss: 0.8250 - val_accuracy: 0.0150 - val_recall: 0.7602 - val_auc: 0.8279\n",
      "Epoch 17/30\n",
      "7996/7996 [==============================] - 8s 1ms/sample - loss: 0.1010 - accuracy: 0.0283 - recall: 0.9624 - auc: 0.9935 - val_loss: 0.9052 - val_accuracy: 0.0161 - val_recall: 0.6776 - val_auc: 0.8218\n",
      "Epoch 18/30\n",
      "7996/7996 [==============================] - 7s 910us/sample - loss: 0.0850 - accuracy: 0.0380 - recall: 0.9684 - auc: 0.9952 - val_loss: 0.8273 - val_accuracy: 0.0154 - val_recall: 0.7431 - val_auc: 0.8257\n",
      "Epoch 19/30\n",
      "7996/7996 [==============================] - 7s 912us/sample - loss: 0.0734 - accuracy: 0.0424 - recall: 0.9734 - auc: 0.9967 - val_loss: 0.9274 - val_accuracy: 0.0173 - val_recall: 0.7066 - val_auc: 0.8056\n",
      "Epoch 20/30\n",
      "7996/7996 [==============================] - 7s 906us/sample - loss: 0.0766 - accuracy: 0.0488 - recall: 0.9727 - auc: 0.9963 - val_loss: 0.8785 - val_accuracy: 0.0263 - val_recall: 0.7491 - val_auc: 0.8264\n",
      "Epoch 21/30\n",
      "7996/7996 [==============================] - 7s 906us/sample - loss: 0.0532 - accuracy: 0.0545 - recall: 0.9794 - auc: 0.9981 - val_loss: 0.9546 - val_accuracy: 0.0431 - val_recall: 0.7833 - val_auc: 0.8283\n",
      "Epoch 22/30\n",
      "7996/7996 [==============================] - 7s 902us/sample - loss: 0.0454 - accuracy: 0.0723 - recall: 0.9829 - auc: 0.9986 - val_loss: 0.9846 - val_accuracy: 0.0488 - val_recall: 0.7528 - val_auc: 0.8259\n",
      "Epoch 23/30\n",
      "7996/7996 [==============================] - 7s 913us/sample - loss: 0.0400 - accuracy: 0.0882 - recall: 0.9862 - auc: 0.9989 - val_loss: 1.0727 - val_accuracy: 0.0488 - val_recall: 0.6754 - val_auc: 0.8177\n",
      "Epoch 24/30\n",
      "7996/7996 [==============================] - 7s 904us/sample - loss: 0.0397 - accuracy: 0.0949 - recall: 0.9850 - auc: 0.9989 - val_loss: 1.0383 - val_accuracy: 0.0559 - val_recall: 0.7446 - val_auc: 0.8213\n",
      "Epoch 25/30\n",
      "7996/7996 [==============================] - 7s 903us/sample - loss: 0.0404 - accuracy: 0.0978 - recall: 0.9855 - auc: 0.9990 - val_loss: 1.0250 - val_accuracy: 0.0480 - val_recall: 0.7476 - val_auc: 0.8118\n",
      "Epoch 26/30\n",
      "7996/7996 [==============================] - 7s 902us/sample - loss: 0.0312 - accuracy: 0.1128 - recall: 0.9892 - auc: 0.9994 - val_loss: 1.1263 - val_accuracy: 0.0791 - val_recall: 0.7580 - val_auc: 0.8176\n",
      "Epoch 27/30\n",
      "7996/7996 [==============================] - 7s 904us/sample - loss: 0.0248 - accuracy: 0.1372 - recall: 0.9910 - auc: 0.9995 - val_loss: 1.1367 - val_accuracy: 0.0716 - val_recall: 0.7260 - val_auc: 0.8148\n",
      "Epoch 28/30\n",
      "7996/7996 [==============================] - 7s 902us/sample - loss: 0.0280 - accuracy: 0.1427 - recall: 0.9920 - auc: 0.9992 - val_loss: 1.1364 - val_accuracy: 0.0544 - val_recall: 0.6917 - val_auc: 0.8048\n",
      "Epoch 29/30\n",
      "7996/7996 [==============================] - 7s 904us/sample - loss: 0.0279 - accuracy: 0.1496 - recall: 0.9895 - auc: 0.9994 - val_loss: 1.1798 - val_accuracy: 0.0675 - val_recall: 0.7133 - val_auc: 0.8182\n",
      "Epoch 30/30\n",
      "7996/7996 [==============================] - 7s 904us/sample - loss: 0.0341 - accuracy: 0.1381 - recall: 0.9890 - auc: 0.9986 - val_loss: 1.1480 - val_accuracy: 0.0731 - val_recall: 0.8057 - val_auc: 0.8112\n"
     ]
    }
   ],
   "source": [
    "EPOCHS = 30\n",
    "BATCH_SIZE = 64\n",
    "\n",
    "history = model.fit((X_conv_train, X_dense_train),\n",
    "                    y_train,\n",
    "                    validation_data=((X_conv_test, X_dense_test), y_test),\n",
    "                    batch_size=BATCH_SIZE,\n",
    "                    epochs=EPOCHS)"
   ]
  },
  {
   "cell_type": "code",
   "execution_count": 70,
   "metadata": {},
   "outputs": [
    {
     "data": {
      "image/png": "[encoded data removed]",
      "text/plain": [
       "<Figure size 1440x288 with 4 Axes>"
      ]
     },
     "metadata": {
      "needs_background": "light"
     },
     "output_type": "display_data"
    }
   ],
   "source": [
    "plt.figure(figsize=(20, 4))\n",
    "\n",
    "plt.subplot(1, 4, 1)\n",
    "plt.plot(history.history['loss'], label='train')\n",
    "plt.plot(history.history['val_loss'], label='validation')\n",
    "plt.ylabel('Loss')\n",
    "plt.xlabel('Epoch')\n",
    "plt.legend()\n",
    "\n",
    "plt.subplot(1, 4, 2)\n",
    "plt.plot(history.history['accuracy'], label='train')\n",
    "plt.plot(history.history['val_accuracy'], label='validation')\n",
    "plt.ylabel('Accuracy')\n",
    "plt.xlabel('Epoch')\n",
    "plt.legend()\n",
    "\n",
    "plt.subplot(1, 4, 3)\n",
    "plt.plot(history.history['recall'], label='train')\n",
    "plt.plot(history.history['val_recall'], label='validation')\n",
    "plt.ylabel('Recall')\n",
    "plt.xlabel('Epoch')\n",
    "plt.legend()\n",
    "\n",
    "plt.subplot(1, 4, 4)\n",
    "plt.plot(history.history['auc'], label='train')\n",
    "plt.plot(history.history['val_auc'], label='validation')\n",
    "plt.ylabel('AUC')\n",
    "plt.xlabel('Epoch')\n",
    "plt.legend()\n",
    "\n",
    "plt.show()"
   ]
  },
  {
   "cell_type": "code",
   "execution_count": 71,
   "metadata": {},
   "outputs": [],
   "source": [
    "def predict(review, max_words=MAX_WORDS, shape=(EMBEDDING_SIZE,)):\n",
    "    def process_input(review, fn, shape):\n",
    "        input_ = [p for p in fn(review)]\n",
    "        input_ = tf.cast(input_, tf.float32)\n",
    "        input_ = tf.reshape(input_, shape)\n",
    "        input_ = input_[np.newaxis, ...]\n",
    "        return input_\n",
    "    \n",
    "    input_conv = process_input(review, process_review_conv, shape=(EMBEDDING_SIZE, MAX_WORDS, 1))\n",
    "    input_dense = process_input(review, process_review_dense, shape=(EMBEDDING_SIZE,))\n",
    "    prediction = model.predict((input_conv, input_dense))[0][0]\n",
    "    print(prediction)\n",
    "    if prediction > 0.5:\n",
    "        print('Positive review with probability: {:.2f}%'.format(prediction * 100))\n",
    "    else:\n",
    "        print('Negative review with probability: {:.2f}%'.format(100 - prediction * 100))"
   ]
  },
  {
   "cell_type": "code",
   "execution_count": 81,
   "metadata": {},
   "outputs": [
    {
     "name": "stdout",
     "output_type": "stream",
     "text": [
      "0.005984371\n",
      "Negative review with probability: 99.40%\n"
     ]
    }
   ],
   "source": [
    "predict(\"Movie was not so bad after all\")"
   ]
  },
  {
   "cell_type": "code",
   "execution_count": null,
   "metadata": {},
   "outputs": [],
   "source": []
  }
 ],
 "metadata": {
  "kernelspec": {
   "display_name": "Python 3",
   "language": "python",
   "name": "python3"
  },
  "language_info": {
   "codemirror_mode": {
    "name": "ipython",
    "version": 3
   },
   "file_extension": ".py",
   "mimetype": "text/x-python",
   "name": "python",
   "nbconvert_exporter": "python",
   "pygments_lexer": "ipython3",
   "version": "3.7.3"
  }
 },
 "nbformat": 4,
 "nbformat_minor": 4
}
