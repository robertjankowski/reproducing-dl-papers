{
 "cells": [
  {
   "cell_type": "code",
   "execution_count": 1,
   "metadata": {},
   "outputs": [],
   "source": [
    "import tensorflow as tf\n",
    "import numpy as np\n",
    "import pandas as pd\n",
    "import matplotlib.pyplot as plt\n",
    "\n",
    "import os\n",
    "\n",
    "from IPython import display"
   ]
  },
  {
   "cell_type": "code",
   "execution_count": 39,
   "metadata": {},
   "outputs": [
    {
     "data": {
      "text/html": [
       "<div>\n",
       "<style scoped>\n",
       "    .dataframe tbody tr th:only-of-type {\n",
       "        vertical-align: middle;\n",
       "    }\n",
       "\n",
       "    .dataframe tbody tr th {\n",
       "        vertical-align: top;\n",
       "    }\n",
       "\n",
       "    .dataframe thead th {\n",
       "        text-align: right;\n",
       "    }\n",
       "</style>\n",
       "<table border=\"1\" class=\"dataframe\">\n",
       "  <thead>\n",
       "    <tr style=\"text-align: right;\">\n",
       "      <th></th>\n",
       "      <th>review</th>\n",
       "      <th>sentiment</th>\n",
       "    </tr>\n",
       "  </thead>\n",
       "  <tbody>\n",
       "    <tr>\n",
       "      <th>0</th>\n",
       "      <td>the rock is destined to be the 21st century's ...</td>\n",
       "      <td>1</td>\n",
       "    </tr>\n",
       "    <tr>\n",
       "      <th>1</th>\n",
       "      <td>the gorgeously elaborate continuation of \" the...</td>\n",
       "      <td>1</td>\n",
       "    </tr>\n",
       "    <tr>\n",
       "      <th>2</th>\n",
       "      <td>effective but too-tepid biopic</td>\n",
       "      <td>1</td>\n",
       "    </tr>\n",
       "    <tr>\n",
       "      <th>3</th>\n",
       "      <td>if you sometimes like to go to the movies to h...</td>\n",
       "      <td>1</td>\n",
       "    </tr>\n",
       "    <tr>\n",
       "      <th>4</th>\n",
       "      <td>emerges as something rare , an issue movie tha...</td>\n",
       "      <td>1</td>\n",
       "    </tr>\n",
       "  </tbody>\n",
       "</table>\n",
       "</div>"
      ],
      "text/plain": [
       "                                              review  sentiment\n",
       "0  the rock is destined to be the 21st century's ...          1\n",
       "1  the gorgeously elaborate continuation of \" the...          1\n",
       "2                     effective but too-tepid biopic          1\n",
       "3  if you sometimes like to go to the movies to h...          1\n",
       "4  emerges as something rare , an issue movie tha...          1"
      ]
     },
     "execution_count": 39,
     "metadata": {},
     "output_type": "execute_result"
    }
   ],
   "source": [
    "path = \"rt-polaritydata/rt-polaritydata/\"\n",
    "\n",
    "pos_path = os.path.join(path, 'rt-polarity.pos')\n",
    "neg_path = os.path.join(path, 'rt-polarity.neg')\n",
    "\n",
    "def load_review(path, is_pos=True):\n",
    "    with open(path) as f:\n",
    "        review = pd.DataFrame({'review':f.read().splitlines()})\n",
    "    review['sentiment'] = 1 if is_pos else 0\n",
    "    return review\n",
    "\n",
    "pos_review = load_review(pos_path, is_pos=True)\n",
    "neg_review = load_review(neg_path, is_pos=False)\n",
    "\n",
    "all_reviews = pd.concat([pos_review, neg_review])\n",
    "all_reviews.head()"
   ]
  },
  {
   "cell_type": "markdown",
   "metadata": {},
   "source": [
    "#### Load word2vec model"
   ]
  },
  {
   "cell_type": "code",
   "execution_count": 8,
   "metadata": {},
   "outputs": [],
   "source": [
    "from gensim.models import KeyedVectors\n",
    "\n",
    "word2vec_model = KeyedVectors.load_word2vec_format(\"GoogleNews-vectors-negative300.bin/GoogleNews-vectors-negative300.bin\", binary=True)"
   ]
  },
  {
   "cell_type": "code",
   "execution_count": 16,
   "metadata": {},
   "outputs": [
    {
     "data": {
      "text/plain": [
       "[('king', 0.8449392318725586),\n",
       " ('queen', 0.7300517559051514),\n",
       " ('monarch', 0.6454660892486572),\n",
       " ('princess', 0.6156250834465027),\n",
       " ('crown_prince', 0.5818676352500916),\n",
       " ('prince', 0.577711820602417),\n",
       " ('kings', 0.5613664388656616),\n",
       " ('sultan', 0.5376776456832886),\n",
       " ('Queen_Consort', 0.5344247817993164),\n",
       " ('queens', 0.5289887189865112)]"
      ]
     },
     "execution_count": 16,
     "metadata": {},
     "output_type": "execute_result"
    }
   ],
   "source": [
    "queen = word2vec_model[\"king\"] - word2vec_model[\"man\"] + word2vec_model[\"woman\"]\n",
    "word2vec_model.similar_by_vector(queen)"
   ]
  },
  {
   "cell_type": "code",
   "execution_count": 140,
   "metadata": {},
   "outputs": [
    {
     "data": {
      "text/plain": [
       "269"
      ]
     },
     "execution_count": 140,
     "metadata": {},
     "output_type": "execute_result"
    }
   ],
   "source": [
    "max([len(review) for review in all_reviews.review])"
   ]
  },
  {
   "cell_type": "markdown",
   "metadata": {},
   "source": [
    "#### Process review\n"
   ]
  },
  {
   "cell_type": "code",
   "execution_count": 243,
   "metadata": {},
   "outputs": [],
   "source": [
    "from stop_words import get_stop_words\n",
    "\n",
    "MAX_WORDS = 25\n",
    "EMBEDDING_SIZE = 300\n",
    "\n",
    "def process_review(review, max_words=MAX_WORDS):\n",
    "    review = tf.keras.preprocessing.text.text_to_word_sequence(review)\n",
    "    review = [word for word in review if word not in get_stop_words('english')]\n",
    "    review_ = []\n",
    "    for r in review:\n",
    "        try:\n",
    "            review_.append(word2vec_model[r])\n",
    "        except KeyError:\n",
    "            review_.append(np.zeros(EMBEDDING_SIZE,)) # when word does not exists in vocab\n",
    "    while len(review_) < max_words:\n",
    "        review_.append(np.zeros(EMBEDDING_SIZE,))\n",
    "    review_ = review_[:max_words]\n",
    "    return review_"
   ]
  },
  {
   "cell_type": "markdown",
   "metadata": {},
   "source": [
    "Testing differences between positive and negative review"
   ]
  },
  {
   "cell_type": "code",
   "execution_count": 244,
   "metadata": {},
   "outputs": [
    {
     "data": {
      "image/png": "[encoded data removed]",
      "text/plain": [
       "<Figure size 720x360 with 2 Axes>"
      ]
     },
     "metadata": {
      "needs_background": "light"
     },
     "output_type": "display_data"
    }
   ],
   "source": [
    "pos = np.random.randint(1000)\n",
    "neg = np.random.randint(1000)\n",
    "\n",
    "pos_r = pos_review.review.iloc[pos]\n",
    "neg_r = neg_review.review.iloc[neg]\n",
    "\n",
    "pos_review_processed = process_review(pos_r)\n",
    "neg_review_processed = process_review(neg_r)\n",
    "\n",
    "plt.figure(figsize=(10, 5))\n",
    "plt.subplot(2, 1, 1)\n",
    "plt.imshow(pos_review_processed, cmap='gray', interpolation='nearest', aspect='auto')\n",
    "title = plt.title(pos_r)\n",
    "plt.setp(title, color='red')\n",
    "plt.axis('off')\n",
    "\n",
    "plt.subplot(2, 1, 2)\n",
    "plt.imshow(neg_review_processed, cmap='gray', interpolation='nearest', aspect='auto')\n",
    "title = plt.title(neg_r)\n",
    "plt.setp(title, color='blue')\n",
    "plt.axis('off')\n",
    "plt.show()"
   ]
  },
  {
   "cell_type": "code",
   "execution_count": 245,
   "metadata": {},
   "outputs": [],
   "source": [
    "processed_review = all_reviews.review.apply(lambda review: process_review(review))"
   ]
  },
  {
   "cell_type": "code",
   "execution_count": 246,
   "metadata": {},
   "outputs": [],
   "source": [
    "from sklearn.model_selection import train_test_split\n",
    "\n",
    "\n",
    "X = processed_review.to_numpy().tolist()\n",
    "y = all_reviews.sentiment.values\n",
    "\n",
    "X_train, X_test, y_train, y_test = train_test_split(X, y, test_size=0.1, random_state=42)"
   ]
  },
  {
   "cell_type": "code",
   "execution_count": 247,
   "metadata": {},
   "outputs": [],
   "source": [
    "X_train = tf.convert_to_tensor(X_train)\n",
    "y_train = tf.convert_to_tensor(y_train)\n",
    "X_test = tf.convert_to_tensor(X_test)\n",
    "y_test = tf.convert_to_tensor(y_test)"
   ]
  },
  {
   "cell_type": "code",
   "execution_count": 248,
   "metadata": {},
   "outputs": [],
   "source": [
    "X_train_reshaped = tf.reshape(X_train, [X_train.shape[0], X_train.shape[2], X_train.shape[1], 1]) # one channel (black or white)\n",
    "X_test_reshaped = tf.reshape(X_test, [X_test.shape[0], X_test.shape[2], X_test.shape[1], 1])"
   ]
  },
  {
   "cell_type": "code",
   "execution_count": 249,
   "metadata": {},
   "outputs": [
    {
     "data": {
      "text/plain": [
       "(TensorShape([9595, 300, 25, 1]),\n",
       " TensorShape([1067, 300, 25, 1]),\n",
       " TensorShape([9595]),\n",
       " TensorShape([1067]))"
      ]
     },
     "execution_count": 249,
     "metadata": {},
     "output_type": "execute_result"
    }
   ],
   "source": [
    "X_train_reshaped.shape, X_test_reshaped.shape, y_train.shape, y_test.shape"
   ]
  },
  {
   "cell_type": "code",
   "execution_count": 250,
   "metadata": {},
   "outputs": [],
   "source": [
    "model = tf.keras.Sequential([\n",
    "    tf.keras.layers.Conv2D(32, (3, 3), activation='relu', input_shape=(EMBEDDING_SIZE, MAX_WORDS, 1)),\n",
    "    tf.keras.layers.MaxPool2D((2, 2)),\n",
    "    tf.keras.layers.Conv2D(64, (3, 3), activation='relu'),\n",
    "    tf.keras.layers.MaxPool2D((2, 2)),\n",
    "    tf.keras.layers.Flatten(),\n",
    "    tf.keras.layers.Dropout(0.4),\n",
    "    tf.keras.layers.Dense(64, activation='relu'),\n",
    "    tf.keras.layers.Dense(1, activation='sigmoid')\n",
    "])"
   ]
  },
  {
   "cell_type": "code",
   "execution_count": 251,
   "metadata": {},
   "outputs": [
    {
     "name": "stdout",
     "output_type": "stream",
     "text": [
      "Model: \"sequential_21\"\n",
      "_________________________________________________________________\n",
      "Layer (type)                 Output Shape              Param #   \n",
      "=================================================================\n",
      "conv2d_44 (Conv2D)           (None, 298, 23, 32)       320       \n",
      "_________________________________________________________________\n",
      "max_pooling2d_35 (MaxPooling (None, 149, 11, 32)       0         \n",
      "_________________________________________________________________\n",
      "conv2d_45 (Conv2D)           (None, 147, 9, 64)        18496     \n",
      "_________________________________________________________________\n",
      "max_pooling2d_36 (MaxPooling (None, 73, 4, 64)         0         \n",
      "_________________________________________________________________\n",
      "flatten_21 (Flatten)         (None, 18688)             0         \n",
      "_________________________________________________________________\n",
      "dropout_22 (Dropout)         (None, 18688)             0         \n",
      "_________________________________________________________________\n",
      "dense_45 (Dense)             (None, 64)                1196096   \n",
      "_________________________________________________________________\n",
      "dense_46 (Dense)             (None, 1)                 65        \n",
      "=================================================================\n",
      "Total params: 1,214,977\n",
      "Trainable params: 1,214,977\n",
      "Non-trainable params: 0\n",
      "_________________________________________________________________\n"
     ]
    }
   ],
   "source": [
    "model.summary()"
   ]
  },
  {
   "cell_type": "code",
   "execution_count": 252,
   "metadata": {},
   "outputs": [],
   "source": [
    "model.compile(optimizer='adam', loss='binary_crossentropy', metrics=['accuracy'])"
   ]
  },
  {
   "cell_type": "code",
   "execution_count": 253,
   "metadata": {},
   "outputs": [
    {
     "name": "stdout",
     "output_type": "stream",
     "text": [
      "Train on 9595 samples, validate on 1067 samples\n",
      "Epoch 1/30\n",
      "9595/9595 [==============================] - 7s 750us/sample - loss: 0.6930 - accuracy: 0.5137 - val_loss: 0.6925 - val_accuracy: 0.4911\n",
      "Epoch 2/30\n",
      "9595/9595 [==============================] - 6s 610us/sample - loss: 0.6799 - accuracy: 0.5728 - val_loss: 0.6645 - val_accuracy: 0.6129\n",
      "Epoch 3/30\n",
      "9595/9595 [==============================] - 6s 605us/sample - loss: 0.6307 - accuracy: 0.6482 - val_loss: 0.6071 - val_accuracy: 0.6767\n",
      "Epoch 4/30\n",
      "9595/9595 [==============================] - 6s 608us/sample - loss: 0.5773 - accuracy: 0.7012 - val_loss: 0.5805 - val_accuracy: 0.6954\n",
      "Epoch 5/30\n",
      "9595/9595 [==============================] - 6s 609us/sample - loss: 0.5487 - accuracy: 0.7232 - val_loss: 0.5694 - val_accuracy: 0.7104\n",
      "Epoch 6/30\n",
      "9595/9595 [==============================] - 6s 606us/sample - loss: 0.5265 - accuracy: 0.7352 - val_loss: 0.5635 - val_accuracy: 0.7104\n",
      "Epoch 7/30\n",
      "9595/9595 [==============================] - 6s 606us/sample - loss: 0.5008 - accuracy: 0.7565 - val_loss: 0.5692 - val_accuracy: 0.7029\n",
      "Epoch 8/30\n",
      "9595/9595 [==============================] - 6s 608us/sample - loss: 0.4805 - accuracy: 0.7685 - val_loss: 0.5761 - val_accuracy: 0.7048\n",
      "Epoch 9/30\n",
      "9595/9595 [==============================] - 6s 606us/sample - loss: 0.4671 - accuracy: 0.7763 - val_loss: 0.5559 - val_accuracy: 0.7170\n",
      "Epoch 10/30\n",
      "9595/9595 [==============================] - 6s 609us/sample - loss: 0.4591 - accuracy: 0.7806 - val_loss: 0.5538 - val_accuracy: 0.7216\n",
      "Epoch 11/30\n",
      "9595/9595 [==============================] - 6s 608us/sample - loss: 0.4386 - accuracy: 0.7948 - val_loss: 0.5614 - val_accuracy: 0.7067\n",
      "Epoch 12/30\n",
      "9595/9595 [==============================] - 6s 607us/sample - loss: 0.4179 - accuracy: 0.8072 - val_loss: 0.5618 - val_accuracy: 0.7076\n",
      "Epoch 13/30\n",
      "9595/9595 [==============================] - 6s 608us/sample - loss: 0.4007 - accuracy: 0.8194 - val_loss: 0.5599 - val_accuracy: 0.7198\n",
      "Epoch 14/30\n",
      "9595/9595 [==============================] - 6s 608us/sample - loss: 0.3894 - accuracy: 0.8211 - val_loss: 0.5741 - val_accuracy: 0.7076\n",
      "Epoch 15/30\n",
      "9595/9595 [==============================] - 6s 607us/sample - loss: 0.3606 - accuracy: 0.8429 - val_loss: 0.6004 - val_accuracy: 0.7076\n",
      "Epoch 16/30\n",
      "9595/9595 [==============================] - 6s 608us/sample - loss: 0.3448 - accuracy: 0.8451 - val_loss: 0.5920 - val_accuracy: 0.7104\n",
      "Epoch 17/30\n",
      "9595/9595 [==============================] - 6s 607us/sample - loss: 0.3262 - accuracy: 0.8558 - val_loss: 0.6190 - val_accuracy: 0.7076\n",
      "Epoch 18/30\n",
      "9595/9595 [==============================] - 6s 606us/sample - loss: 0.3146 - accuracy: 0.8597 - val_loss: 0.6172 - val_accuracy: 0.6935\n",
      "Epoch 19/30\n",
      "9595/9595 [==============================] - 6s 608us/sample - loss: 0.2925 - accuracy: 0.8747 - val_loss: 0.6285 - val_accuracy: 0.7123\n",
      "Epoch 20/30\n",
      "9595/9595 [==============================] - 6s 607us/sample - loss: 0.2719 - accuracy: 0.8842 - val_loss: 0.6541 - val_accuracy: 0.7067\n",
      "Epoch 21/30\n",
      "9595/9595 [==============================] - 6s 605us/sample - loss: 0.2649 - accuracy: 0.8923 - val_loss: 0.6389 - val_accuracy: 0.7095\n",
      "Epoch 22/30\n",
      "9595/9595 [==============================] - 6s 609us/sample - loss: 0.2449 - accuracy: 0.8992 - val_loss: 0.6891 - val_accuracy: 0.6898\n",
      "Epoch 23/30\n",
      "9595/9595 [==============================] - 6s 609us/sample - loss: 0.2214 - accuracy: 0.9097 - val_loss: 0.7041 - val_accuracy: 0.7038\n",
      "Epoch 24/30\n",
      "9595/9595 [==============================] - 6s 607us/sample - loss: 0.2108 - accuracy: 0.9112 - val_loss: 0.7038 - val_accuracy: 0.7170\n",
      "Epoch 25/30\n",
      "9595/9595 [==============================] - 6s 606us/sample - loss: 0.1961 - accuracy: 0.9204 - val_loss: 0.7260 - val_accuracy: 0.7085\n",
      "Epoch 26/30\n",
      "9595/9595 [==============================] - 6s 608us/sample - loss: 0.1831 - accuracy: 0.9263 - val_loss: 0.7111 - val_accuracy: 0.7010\n",
      "Epoch 27/30\n",
      "9595/9595 [==============================] - 6s 609us/sample - loss: 0.1687 - accuracy: 0.9337 - val_loss: 0.7279 - val_accuracy: 0.6973\n",
      "Epoch 28/30\n",
      "9595/9595 [==============================] - 6s 608us/sample - loss: 0.1652 - accuracy: 0.9365 - val_loss: 0.7321 - val_accuracy: 0.6907\n",
      "Epoch 29/30\n",
      "9595/9595 [==============================] - 6s 608us/sample - loss: 0.1448 - accuracy: 0.9438 - val_loss: 0.7798 - val_accuracy: 0.7020\n",
      "Epoch 30/30\n",
      "9595/9595 [==============================] - 6s 606us/sample - loss: 0.1374 - accuracy: 0.9484 - val_loss: 0.8217 - val_accuracy: 0.6907\n"
     ]
    }
   ],
   "source": [
    "BATCH_SIZE = 128\n",
    "\n",
    "history = model.fit(X_train_reshaped, \n",
    "                    y_train, \n",
    "                    epochs=30, \n",
    "                    batch_size=BATCH_SIZE,\n",
    "                    validation_data=(X_test_reshaped, y_test))"
   ]
  },
  {
   "cell_type": "code",
   "execution_count": 254,
   "metadata": {},
   "outputs": [
    {
     "data": {
      "image/png": "[encoded data removed]",
      "text/plain": [
       "<Figure size 720x360 with 2 Axes>"
      ]
     },
     "metadata": {
      "needs_background": "light"
     },
     "output_type": "display_data"
    }
   ],
   "source": [
    "plt.figure(figsize=(10, 5))\n",
    "\n",
    "plt.subplot(1, 2, 1)\n",
    "plt.plot(history.history['loss'], label='train')\n",
    "plt.plot(history.history['val_loss'], label='validation')\n",
    "plt.ylabel('Loss')\n",
    "plt.xlabel('Epoch')\n",
    "plt.legend()\n",
    "\n",
    "plt.subplot(1, 2, 2)\n",
    "plt.plot(history.history['accuracy'], label='train')\n",
    "plt.plot(history.history['val_accuracy'], label='validation')\n",
    "plt.ylabel('Accuracy')\n",
    "plt.xlabel('Epoch')\n",
    "plt.legend()\n",
    "\n",
    "plt.show()"
   ]
  },
  {
   "cell_type": "code",
   "execution_count": 255,
   "metadata": {},
   "outputs": [],
   "source": [
    "def predict(review, max_words=MAX_WORDS, shape=(EMBEDDING_SIZE, MAX_WORDS, 1)):\n",
    "    input_ = [p for p in process_review(review, max_words=max_words)]\n",
    "    input_ = tf.cast(input_, tf.float32)\n",
    "    input_ = tf.reshape(input_, shape)\n",
    "    input_ = input_[np.newaxis, ...]\n",
    "    prediction = model.predict(input_)[0][0]\n",
    "    print(prediction)\n",
    "    if prediction > 0.5:\n",
    "        print('Positive review with probability: {:.2f}%'.format(prediction * 100))\n",
    "    else:\n",
    "        print('Negative review with probability: {:.2f}%'.format(100 - prediction * 100))"
   ]
  },
  {
   "cell_type": "code",
   "execution_count": 256,
   "metadata": {},
   "outputs": [
    {
     "name": "stdout",
     "output_type": "stream",
     "text": [
      "0.9832413\n",
      "Positive review with probability: 98.32%\n"
     ]
    }
   ],
   "source": [
    "predict('this film is amazing. I hope to see it once again in the future.')"
   ]
  },
  {
   "cell_type": "code",
   "execution_count": 257,
   "metadata": {},
   "outputs": [
    {
     "name": "stdout",
     "output_type": "stream",
     "text": [
      "0.28083625\n",
      "Negative review with probability: 71.92%\n"
     ]
    }
   ],
   "source": [
    "predict('one of the worse film i have ever seen, do not recommend!')"
   ]
  },
  {
   "cell_type": "code",
   "execution_count": 258,
   "metadata": {},
   "outputs": [
    {
     "name": "stdout",
     "output_type": "stream",
     "text": [
      "0.47151434\n",
      "Negative review with probability: 52.85%\n"
     ]
    }
   ],
   "source": [
    "predict(\"\"\"\n",
    "Jason Bourne is one of the more intriguing film characters of the past decade\n",
    "He methodically and purposefully found out who he was, \n",
    "who was responsible for his condition, and attempted to bring everything back together again\n",
    "\"\"\")"
   ]
  },
  {
   "cell_type": "code",
   "execution_count": 259,
   "metadata": {},
   "outputs": [],
   "source": [
    "# model.save_weights('models/cnn_words_300x25')"
   ]
  },
  {
   "cell_type": "code",
   "execution_count": null,
   "metadata": {},
   "outputs": [],
   "source": []
  }
 ],
 "metadata": {
  "kernelspec": {
   "display_name": "Python 3",
   "language": "python",
   "name": "python3"
  },
  "language_info": {
   "codemirror_mode": {
    "name": "ipython",
    "version": 3
   },
   "file_extension": ".py",
   "mimetype": "text/x-python",
   "name": "python",
   "nbconvert_exporter": "python",
   "pygments_lexer": "ipython3",
   "version": "3.7.3"
  }
 },
 "nbformat": 4,
 "nbformat_minor": 4
}
