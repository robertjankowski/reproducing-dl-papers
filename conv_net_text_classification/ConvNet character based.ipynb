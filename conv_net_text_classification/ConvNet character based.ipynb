{
 "cells": [
  {
   "cell_type": "code",
   "execution_count": 1,
   "metadata": {},
   "outputs": [],
   "source": [
    "import tensorflow as tf\n",
    "import numpy as np\n",
    "import pandas as pd\n",
    "import matplotlib.pyplot as plt\n",
    "\n",
    "import os\n",
    "\n",
    "from IPython import display"
   ]
  },
  {
   "cell_type": "code",
   "execution_count": 100,
   "metadata": {},
   "outputs": [],
   "source": [
    "path = \"rt-polaritydata/rt-polaritydata/\"\n",
    "\n",
    "pos_path = os.path.join(path, 'rt-polarity.pos')\n",
    "neg_path = os.path.join(path, 'rt-polarity.neg')\n",
    "\n",
    "def load_review(path, is_pos=True):\n",
    "    with open(path, encoding='latin-1') as f:\n",
    "        review = pd.DataFrame({'review':f.read().splitlines()})\n",
    "    review['sentiment'] = 1 if is_pos else 0\n",
    "    return review\n",
    "\n",
    "pos_review = load_review(pos_path, is_pos=True)\n",
    "neg_review = load_review(neg_path, is_pos=False)\n",
    "\n",
    "# display.display(pos_review.head(), neg_review.head())"
   ]
  },
  {
   "cell_type": "code",
   "execution_count": 5,
   "metadata": {},
   "outputs": [
    {
     "data": {
      "text/html": [
       "<div>\n",
       "<style scoped>\n",
       "    .dataframe tbody tr th:only-of-type {\n",
       "        vertical-align: middle;\n",
       "    }\n",
       "\n",
       "    .dataframe tbody tr th {\n",
       "        vertical-align: top;\n",
       "    }\n",
       "\n",
       "    .dataframe thead th {\n",
       "        text-align: right;\n",
       "    }\n",
       "</style>\n",
       "<table border=\"1\" class=\"dataframe\">\n",
       "  <thead>\n",
       "    <tr style=\"text-align: right;\">\n",
       "      <th></th>\n",
       "      <th>review</th>\n",
       "      <th>sentiment</th>\n",
       "    </tr>\n",
       "  </thead>\n",
       "  <tbody>\n",
       "    <tr>\n",
       "      <td>0</td>\n",
       "      <td>the rock is destined to be the 21st century's ...</td>\n",
       "      <td>1</td>\n",
       "    </tr>\n",
       "    <tr>\n",
       "      <td>1</td>\n",
       "      <td>the gorgeously elaborate continuation of \" the...</td>\n",
       "      <td>1</td>\n",
       "    </tr>\n",
       "    <tr>\n",
       "      <td>2</td>\n",
       "      <td>effective but too-tepid biopic</td>\n",
       "      <td>1</td>\n",
       "    </tr>\n",
       "    <tr>\n",
       "      <td>3</td>\n",
       "      <td>if you sometimes like to go to the movies to h...</td>\n",
       "      <td>1</td>\n",
       "    </tr>\n",
       "    <tr>\n",
       "      <td>4</td>\n",
       "      <td>emerges as something rare , an issue movie tha...</td>\n",
       "      <td>1</td>\n",
       "    </tr>\n",
       "  </tbody>\n",
       "</table>\n",
       "</div>"
      ],
      "text/plain": [
       "                                              review  sentiment\n",
       "0  the rock is destined to be the 21st century's ...          1\n",
       "1  the gorgeously elaborate continuation of \" the...          1\n",
       "2                     effective but too-tepid biopic          1\n",
       "3  if you sometimes like to go to the movies to h...          1\n",
       "4  emerges as something rare , an issue movie tha...          1"
      ]
     },
     "execution_count": 5,
     "metadata": {},
     "output_type": "execute_result"
    }
   ],
   "source": [
    "all_reviews = pd.concat([pos_review, neg_review])\n",
    "all_reviews.head()"
   ]
  },
  {
   "cell_type": "code",
   "execution_count": 17,
   "metadata": {},
   "outputs": [
    {
     "data": {
      "image/png": "[encoded data removed]",
      "text/plain": [
       "<Figure size 432x288 with 1 Axes>"
      ]
     },
     "metadata": {
      "needs_background": "light"
     },
     "output_type": "display_data"
    }
   ],
   "source": [
    "plt.hist(all_reviews.sentiment)\n",
    "plt.show()"
   ]
  },
  {
   "cell_type": "code",
   "execution_count": 6,
   "metadata": {},
   "outputs": [],
   "source": [
    "all_reviews[\"review_splitted\"] = all_reviews.review.apply(lambda review: tf.keras.preprocessing.text.text_to_word_sequence(review))"
   ]
  },
  {
   "cell_type": "code",
   "execution_count": 7,
   "metadata": {},
   "outputs": [],
   "source": [
    "import functools\n",
    "import operator\n",
    "\n",
    "def get_all_characters(df):\n",
    "    chars = []\n",
    "    for review in df.review_splitted:\n",
    "        for word in review:\n",
    "            chars.append(word)\n",
    "    chars = functools.reduce(operator.iconcat, chars, [])\n",
    "    return list(set(chars))"
   ]
  },
  {
   "cell_type": "code",
   "execution_count": 8,
   "metadata": {},
   "outputs": [
    {
     "name": "stdout",
     "output_type": "stream",
     "text": [
      "Total number of characters: 60\n",
      "['q', 'ê', 'õ', 'k', 'r', '2', '6', 'ô', \"'\", '½', 'y', 'û', 'á', 'v', 'ú', 'j', 'f', 't', '0', 'l', 'à', 'â', '1', 'i', '3', 'p', 'ó', 'æ', 'n', 'u', 'è', 'a', 'd', '5', 'ç', 'm', '\\x91', '7', 'ã', 'ï', 'b', 'ñ', 'ö', 'g', 's', '8', '\\x96', 'ü', 'z', '9', 'e', 'o', 'w', 'í', '\\x97', 'é', '4', 'x', 'c', 'h']\n"
     ]
    }
   ],
   "source": [
    "chars = get_all_characters(all_reviews)\n",
    "\n",
    "NUM_CHARS = len(chars)\n",
    "print('Total number of characters: {}\\n{}'.format(NUM_CHARS, chars))"
   ]
  },
  {
   "cell_type": "code",
   "execution_count": 9,
   "metadata": {},
   "outputs": [],
   "source": [
    "char_to_num = {chars[i]: i for i in range(NUM_CHARS)}\n",
    "num_to_char = {i: chars[i] for i in range(NUM_CHARS)}"
   ]
  },
  {
   "cell_type": "markdown",
   "metadata": {},
   "source": [
    "Find the maximum length of review -- padding"
   ]
  },
  {
   "cell_type": "code",
   "execution_count": 10,
   "metadata": {},
   "outputs": [],
   "source": [
    "def get_max_len(df):\n",
    "    all_lenghts = []\n",
    "    for review in df.review:\n",
    "        all_lenghts.append(len(list(review)))\n",
    "    return max(all_lenghts)"
   ]
  },
  {
   "cell_type": "code",
   "execution_count": 11,
   "metadata": {},
   "outputs": [
    {
     "data": {
      "text/plain": [
       "(269, 267)"
      ]
     },
     "execution_count": 11,
     "metadata": {},
     "output_type": "execute_result"
    }
   ],
   "source": [
    "MAX_LEN_POS = get_max_len(pos_review)\n",
    "MAX_LEN_NEG = get_max_len(neg_review)\n",
    "\n",
    "MAX_LEN_POS, MAX_LEN_NEG"
   ]
  },
  {
   "cell_type": "code",
   "execution_count": 12,
   "metadata": {},
   "outputs": [
    {
     "name": "stdout",
     "output_type": "stream",
     "text": [
      "Maximum length of review: 269 (in characters)\n"
     ]
    }
   ],
   "source": [
    "MAX_LEN = get_max_len(all_reviews)\n",
    "print('Maximum length of review: {} (in characters)'.format(MAX_LEN))"
   ]
  },
  {
   "cell_type": "code",
   "execution_count": 13,
   "metadata": {},
   "outputs": [],
   "source": [
    "from stop_words import get_stop_words\n",
    "\n",
    "def review_to_one_hot(char):\n",
    "    one_hot = [0] * NUM_CHARS\n",
    "    pos = char_to_num[char]\n",
    "    one_hot[pos] = 1\n",
    "    return one_hot\n",
    "\n",
    "def process_review(review, pad=True, max_len=MAX_LEN):\n",
    "    review = tf.keras.preprocessing.text.text_to_word_sequence(review)\n",
    "    review = [word for word in review if word not in get_stop_words('english')]\n",
    "    review = [list(s) for s in review] # to characters\n",
    "    review = functools.reduce(operator.iconcat, review, [])\n",
    "    review_one_hot = [review_to_one_hot(char) for char in review]\n",
    "    if pad:\n",
    "        # append 0 value padding\n",
    "        while len(review_one_hot) < max_len:\n",
    "            review_one_hot.append([0] * NUM_CHARS)\n",
    "    review_one_hot = review_one_hot[:max_len] # trucate to max length\n",
    "    return review_one_hot"
   ]
  },
  {
   "cell_type": "code",
   "execution_count": 14,
   "metadata": {},
   "outputs": [
    {
     "data": {
      "image/png": "[encoded data removed]",
      "text/plain": [
       "<Figure size 720x864 with 2 Axes>"
      ]
     },
     "metadata": {
      "needs_background": "light"
     },
     "output_type": "display_data"
    }
   ],
   "source": [
    "plt.figure(figsize=(10, 12))\n",
    "plt.subplot(1, 2, 1)\n",
    "plt.title(neg_review.review.iloc[2345])\n",
    "plt.imshow([p for p in process_review(neg_review.review.iloc[2345], max_len=100)], cmap='gray')\n",
    "plt.axis('off')\n",
    "\n",
    "plt.subplot(1, 2, 2)\n",
    "plt.title(pos_review.review.iloc[2345], y=-0.05)\n",
    "plt.imshow([p for p in process_review(pos_review.review.iloc[2345], max_len=100)], cmap='gray')\n",
    "plt.axis('off')\n",
    "\n",
    "plt.show()"
   ]
  },
  {
   "cell_type": "code",
   "execution_count": 15,
   "metadata": {},
   "outputs": [],
   "source": [
    "MAX_LEN_SEQ = 50 # in characters\n",
    "\n",
    "processed_review = all_reviews.review.apply(lambda review: process_review(review, max_len=MAX_LEN_SEQ))\n",
    "\n",
    "X = processed_review.to_numpy().tolist()\n",
    "y = all_reviews.sentiment.values"
   ]
  },
  {
   "cell_type": "code",
   "execution_count": 42,
   "metadata": {},
   "outputs": [],
   "source": [
    "from tensorflow.keras import backend as K\n",
    "\n",
    "def f1(y_true, y_pred):\n",
    "        \"\"\"\n",
    "        Create F1 metric for Keras\n",
    "        From: https://stackoverflow.com/a/45305384/9511702\n",
    "        \"\"\"\n",
    "        def recall(y_true, y_pred):\n",
    "            tp = K.sum(K.round(K.clip(y_true * y_pred, 0, 1)))\n",
    "            possible_positives = K.sum(K.round(K.clip(y_true, 0, 1)))\n",
    "            recall = tp / (possible_positives + K.epsilon())\n",
    "            return recall\n",
    "        \n",
    "        def precision(y_true, y_pred):\n",
    "            tp = K.sum(K.round(K.clip(y_true * y_pred, 0, 1)))\n",
    "            predicted_positives = K.sum(K.round(K.clip(y_pred, 0, 1)))\n",
    "            precision = tp / (predicted_positives + K.epsilon())\n",
    "            return precision\n",
    "        \n",
    "        precision = precision(y_true, y_pred)\n",
    "        recall = recall(y_true, y_pred)\n",
    "        return 2 * ((precision * recall) / (precision + recall + K.epsilon()))\n",
    "\n",
    "            \n",
    "def build_model():\n",
    "    model = tf.keras.Sequential([\n",
    "        tf.keras.layers.Conv2D(32, (3, 3), activation='relu', input_shape=(NUM_CHARS, MAX_LEN_SEQ, 1)),\n",
    "        tf.keras.layers.MaxPool2D((2, 2)),\n",
    "        tf.keras.layers.Conv2D(64, (3, 3), activation='relu'),\n",
    "        tf.keras.layers.MaxPool2D((2, 2)),\n",
    "        tf.keras.layers.Conv2D(64, (3, 3), activation='relu'),\n",
    "        tf.keras.layers.MaxPooling2D((2, 2)),\n",
    "        tf.keras.layers.Conv2D(64, (2, 2), activation='relu'),\n",
    "        tf.keras.layers.Flatten(),\n",
    "        tf.keras.layers.Dropout(0.5),\n",
    "        tf.keras.layers.Dense(128, activation='relu'),\n",
    "        tf.keras.layers.Dropout(0.3),\n",
    "        tf.keras.layers.Dense(1, activation='sigmoid')\n",
    "    ])\n",
    "    metrics = ['accuracy', tf.keras.metrics.AUC(), f1] \n",
    "    model.compile(optimizer='adam', loss='binary_crossentropy', metrics=metrics)\n",
    "    return model"
   ]
  },
  {
   "cell_type": "code",
   "execution_count": 111,
   "metadata": {},
   "outputs": [],
   "source": [
    "early_stopping = tf.keras.callbacks.EarlyStopping(monitor='val_loss', patience=8)\n",
    "    \n",
    "def train(X_train, y_train, X_test, y_test, epochs=20, batch_size=128):\n",
    "    model = build_model()\n",
    "    history = model.fit(X_train, \n",
    "                        y_train, \n",
    "                        epochs=epochs, \n",
    "                        batch_size=batch_size,\n",
    "                        validation_data=(X_test, y_test),\n",
    "                        callbacks=[early_stopping],\n",
    "                        verbose=2)\n",
    "    test_results = model.evaluate(X_test, y_test, batch_size)\n",
    "    return history.history, model, test_results "
   ]
  },
  {
   "cell_type": "code",
   "execution_count": 112,
   "metadata": {},
   "outputs": [],
   "source": [
    "from sklearn.model_selection import KFold\n",
    "\n",
    "def X_transform(X):\n",
    "    X = tf.convert_to_tensor(X)\n",
    "    X = tf.reshape(X, [X.shape[0], X.shape[2], X.shape[1], 1]) # one channel (black or white)\n",
    "    return X\n",
    "\n",
    "def y_transform(y):\n",
    "    return tf.convert_to_tensor(y)\n",
    "\n",
    "def cross_validate(X, y, split_size=3):\n",
    "    results = []\n",
    "    models = []\n",
    "    test_results = []\n",
    "    kf = KFold(n_splits=split_size)\n",
    "    for train_idx, val_idx in kf.split(X, y):\n",
    "        X_train = X_transform(X[train_idx])\n",
    "        y_train = y_transform(y[train_idx])\n",
    "        X_test = X_transform(X[val_idx])\n",
    "        y_test = y_transform(y[val_idx])\n",
    "        result, model, test_result = train(X_train, y_train, X_test, y_test)\n",
    "        results.append(result)\n",
    "        models.append(model)\n",
    "        test_results.append(test_result)\n",
    "    return results, models, test_results"
   ]
  },
  {
   "cell_type": "code",
   "execution_count": null,
   "metadata": {},
   "outputs": [],
   "source": [
    "X_new = np.array(X)\n",
    "y_new = np.array(y)\n",
    "\n",
    "results, models, test_results = cross_validate(X_new, y_new)"
   ]
  },
  {
   "cell_type": "markdown",
   "metadata": {},
   "source": [
    "## TODO: - visualization of results "
   ]
  },
  {
   "cell_type": "code",
   "execution_count": 104,
   "metadata": {},
   "outputs": [],
   "source": [
    "# plot results - loss, metrics combine all and draw approx line (e.g. smooth line line in ggplot)\n"
   ]
  },
  {
   "cell_type": "code",
   "execution_count": 63,
   "metadata": {},
   "outputs": [],
   "source": [
    "def predict(review, max_len=MAX_LEN_SEQ, shape=(MAX_LEN_SEQ, NUM_CHARS, 1)):\n",
    "    input_ = [p for p in process_review(review, max_len=max_len)]\n",
    "    input_ = tf.cast(input_, tf.float32)\n",
    "    input_ = tf.reshape(input_, shape)\n",
    "    input_ = input_[np.newaxis, ...]\n",
    "    prediction = model.predict(input_)[0][0]\n",
    "    print(prediction)\n",
    "    if prediction > 0.5:\n",
    "        print('Positive review with probability: {:.2f}%'.format(prediction * 100))\n",
    "    else:\n",
    "        print('Negative review with probability: {:.2f}%'.format(100 - prediction * 100))"
   ]
  },
  {
   "cell_type": "code",
   "execution_count": 64,
   "metadata": {},
   "outputs": [
    {
     "name": "stdout",
     "output_type": "stream",
     "text": [
      "0.54071534\n",
      "Positive review with probability: 54.07%\n"
     ]
    }
   ],
   "source": [
    "shape = (NUM_CHARS, MAX_LEN_SEQ, 1)\n",
    "predict('this film is amazing. I hope to see it once again in the future.', shape=shape)"
   ]
  },
  {
   "cell_type": "code",
   "execution_count": 65,
   "metadata": {},
   "outputs": [
    {
     "name": "stdout",
     "output_type": "stream",
     "text": [
      "0.45713198\n",
      "Negative review with probability: 54.29%\n"
     ]
    }
   ],
   "source": [
    "predict('one of the worse film i have ever seen, do not recommend!', shape=shape)"
   ]
  },
  {
   "cell_type": "code",
   "execution_count": 66,
   "metadata": {},
   "outputs": [
    {
     "name": "stdout",
     "output_type": "stream",
     "text": [
      "0.48102286\n",
      "Negative review with probability: 51.90%\n"
     ]
    }
   ],
   "source": [
    "predict(\"i really don't like this film\", shape=shape)"
   ]
  },
  {
   "cell_type": "code",
   "execution_count": 67,
   "metadata": {},
   "outputs": [
    {
     "name": "stdout",
     "output_type": "stream",
     "text": [
      "0.20604676\n",
      "Negative review with probability: 79.40%\n"
     ]
    }
   ],
   "source": [
    "predict(\"\"\"\n",
    "Excellent play for the main actor, Mario Casas, but even better for the lawyer, Ana Wagener.\n",
    "\"\"\", shape=shape)"
   ]
  },
  {
   "cell_type": "code",
   "execution_count": null,
   "metadata": {},
   "outputs": [],
   "source": []
  }
 ],
 "metadata": {
  "kernelspec": {
   "display_name": "Python 3",
   "language": "python",
   "name": "python3"
  },
  "language_info": {
   "codemirror_mode": {
    "name": "ipython",
    "version": 3
   },
   "file_extension": ".py",
   "mimetype": "text/x-python",
   "name": "python",
   "nbconvert_exporter": "python",
   "pygments_lexer": "ipython3",
   "version": "3.7.4"
  }
 },
 "nbformat": 4,
 "nbformat_minor": 4
}
