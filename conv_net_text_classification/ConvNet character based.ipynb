{
 "cells": [
  {
   "cell_type": "code",
   "execution_count": 1,
   "metadata": {},
   "outputs": [],
   "source": [
    "import tensorflow as tf\n",
    "import numpy as np\n",
    "import pandas as pd\n",
    "import matplotlib.pyplot as plt\n",
    "\n",
    "import os\n",
    "\n",
    "from IPython import display"
   ]
  },
  {
   "cell_type": "code",
   "execution_count": 2,
   "metadata": {},
   "outputs": [
    {
     "data": {
      "text/html": [
       "<div>\n",
       "<style scoped>\n",
       "    .dataframe tbody tr th:only-of-type {\n",
       "        vertical-align: middle;\n",
       "    }\n",
       "\n",
       "    .dataframe tbody tr th {\n",
       "        vertical-align: top;\n",
       "    }\n",
       "\n",
       "    .dataframe thead th {\n",
       "        text-align: right;\n",
       "    }\n",
       "</style>\n",
       "<table border=\"1\" class=\"dataframe\">\n",
       "  <thead>\n",
       "    <tr style=\"text-align: right;\">\n",
       "      <th></th>\n",
       "      <th>review</th>\n",
       "      <th>sentiment</th>\n",
       "    </tr>\n",
       "  </thead>\n",
       "  <tbody>\n",
       "    <tr>\n",
       "      <th>0</th>\n",
       "      <td>the rock is destined to be the 21st century's ...</td>\n",
       "      <td>1</td>\n",
       "    </tr>\n",
       "    <tr>\n",
       "      <th>1</th>\n",
       "      <td>the gorgeously elaborate continuation of \" the...</td>\n",
       "      <td>1</td>\n",
       "    </tr>\n",
       "    <tr>\n",
       "      <th>2</th>\n",
       "      <td>effective but too-tepid biopic</td>\n",
       "      <td>1</td>\n",
       "    </tr>\n",
       "    <tr>\n",
       "      <th>3</th>\n",
       "      <td>if you sometimes like to go to the movies to h...</td>\n",
       "      <td>1</td>\n",
       "    </tr>\n",
       "    <tr>\n",
       "      <th>4</th>\n",
       "      <td>emerges as something rare , an issue movie tha...</td>\n",
       "      <td>1</td>\n",
       "    </tr>\n",
       "  </tbody>\n",
       "</table>\n",
       "</div>"
      ],
      "text/plain": [
       "                                              review  sentiment\n",
       "0  the rock is destined to be the 21st century's ...          1\n",
       "1  the gorgeously elaborate continuation of \" the...          1\n",
       "2                     effective but too-tepid biopic          1\n",
       "3  if you sometimes like to go to the movies to h...          1\n",
       "4  emerges as something rare , an issue movie tha...          1"
      ]
     },
     "metadata": {},
     "output_type": "display_data"
    },
    {
     "data": {
      "text/html": [
       "<div>\n",
       "<style scoped>\n",
       "    .dataframe tbody tr th:only-of-type {\n",
       "        vertical-align: middle;\n",
       "    }\n",
       "\n",
       "    .dataframe tbody tr th {\n",
       "        vertical-align: top;\n",
       "    }\n",
       "\n",
       "    .dataframe thead th {\n",
       "        text-align: right;\n",
       "    }\n",
       "</style>\n",
       "<table border=\"1\" class=\"dataframe\">\n",
       "  <thead>\n",
       "    <tr style=\"text-align: right;\">\n",
       "      <th></th>\n",
       "      <th>review</th>\n",
       "      <th>sentiment</th>\n",
       "    </tr>\n",
       "  </thead>\n",
       "  <tbody>\n",
       "    <tr>\n",
       "      <th>0</th>\n",
       "      <td>simplistic , silly and tedious .</td>\n",
       "      <td>0</td>\n",
       "    </tr>\n",
       "    <tr>\n",
       "      <th>1</th>\n",
       "      <td>it's so laddish and juvenile , only teenage bo...</td>\n",
       "      <td>0</td>\n",
       "    </tr>\n",
       "    <tr>\n",
       "      <th>2</th>\n",
       "      <td>exploitative and largely devoid of the depth o...</td>\n",
       "      <td>0</td>\n",
       "    </tr>\n",
       "    <tr>\n",
       "      <th>3</th>\n",
       "      <td>[garbus] discards the potential for pathologic...</td>\n",
       "      <td>0</td>\n",
       "    </tr>\n",
       "    <tr>\n",
       "      <th>4</th>\n",
       "      <td>a visually flashy but narratively opaque and e...</td>\n",
       "      <td>0</td>\n",
       "    </tr>\n",
       "  </tbody>\n",
       "</table>\n",
       "</div>"
      ],
      "text/plain": [
       "                                              review  sentiment\n",
       "0                  simplistic , silly and tedious .           0\n",
       "1  it's so laddish and juvenile , only teenage bo...          0\n",
       "2  exploitative and largely devoid of the depth o...          0\n",
       "3  [garbus] discards the potential for pathologic...          0\n",
       "4  a visually flashy but narratively opaque and e...          0"
      ]
     },
     "metadata": {},
     "output_type": "display_data"
    }
   ],
   "source": [
    "path = \"rt-polaritydata/rt-polaritydata/\"\n",
    "\n",
    "pos_path = os.path.join(path, 'rt-polarity.pos')\n",
    "neg_path = os.path.join(path, 'rt-polarity.neg')\n",
    "\n",
    "def load_review(path, is_pos=True):\n",
    "    with open(path) as f:\n",
    "        review = pd.DataFrame({'review':f.read().splitlines()})\n",
    "    review['sentiment'] = 1 if is_pos else 0\n",
    "    return review\n",
    "\n",
    "pos_review = load_review(pos_path, is_pos=True)\n",
    "neg_review = load_review(neg_path, is_pos=False)\n",
    "\n",
    "display.display(pos_review.head(), neg_review.head())"
   ]
  },
  {
   "cell_type": "code",
   "execution_count": 16,
   "metadata": {},
   "outputs": [
    {
     "data": {
      "text/html": [
       "<div>\n",
       "<style scoped>\n",
       "    .dataframe tbody tr th:only-of-type {\n",
       "        vertical-align: middle;\n",
       "    }\n",
       "\n",
       "    .dataframe tbody tr th {\n",
       "        vertical-align: top;\n",
       "    }\n",
       "\n",
       "    .dataframe thead th {\n",
       "        text-align: right;\n",
       "    }\n",
       "</style>\n",
       "<table border=\"1\" class=\"dataframe\">\n",
       "  <thead>\n",
       "    <tr style=\"text-align: right;\">\n",
       "      <th></th>\n",
       "      <th>review</th>\n",
       "      <th>sentiment</th>\n",
       "    </tr>\n",
       "  </thead>\n",
       "  <tbody>\n",
       "    <tr>\n",
       "      <th>0</th>\n",
       "      <td>the rock is destined to be the 21st century's ...</td>\n",
       "      <td>1</td>\n",
       "    </tr>\n",
       "    <tr>\n",
       "      <th>1</th>\n",
       "      <td>the gorgeously elaborate continuation of \" the...</td>\n",
       "      <td>1</td>\n",
       "    </tr>\n",
       "    <tr>\n",
       "      <th>2</th>\n",
       "      <td>effective but too-tepid biopic</td>\n",
       "      <td>1</td>\n",
       "    </tr>\n",
       "    <tr>\n",
       "      <th>3</th>\n",
       "      <td>if you sometimes like to go to the movies to h...</td>\n",
       "      <td>1</td>\n",
       "    </tr>\n",
       "    <tr>\n",
       "      <th>4</th>\n",
       "      <td>emerges as something rare , an issue movie tha...</td>\n",
       "      <td>1</td>\n",
       "    </tr>\n",
       "  </tbody>\n",
       "</table>\n",
       "</div>"
      ],
      "text/plain": [
       "                                              review  sentiment\n",
       "0  the rock is destined to be the 21st century's ...          1\n",
       "1  the gorgeously elaborate continuation of \" the...          1\n",
       "2                     effective but too-tepid biopic          1\n",
       "3  if you sometimes like to go to the movies to h...          1\n",
       "4  emerges as something rare , an issue movie tha...          1"
      ]
     },
     "execution_count": 16,
     "metadata": {},
     "output_type": "execute_result"
    }
   ],
   "source": [
    "all_reviews = pd.concat([pos_review, neg_review])\n",
    "all_reviews.head()"
   ]
  },
  {
   "cell_type": "code",
   "execution_count": 17,
   "metadata": {},
   "outputs": [],
   "source": [
    "all_reviews[\"review_splitted\"] = all_reviews.review.apply(lambda review: tf.keras.preprocessing.text.text_to_word_sequence(review))"
   ]
  },
  {
   "cell_type": "code",
   "execution_count": 20,
   "metadata": {},
   "outputs": [],
   "source": [
    "import functools\n",
    "import operator\n",
    "\n",
    "def get_all_characters(df):\n",
    "    chars = []\n",
    "    for review in df.review_splitted:\n",
    "        for word in review:\n",
    "            chars.append(word)\n",
    "    chars = functools.reduce(operator.iconcat, chars, [])\n",
    "    return list(set(chars))"
   ]
  },
  {
   "cell_type": "code",
   "execution_count": 21,
   "metadata": {},
   "outputs": [
    {
     "name": "stdout",
     "output_type": "stream",
     "text": [
      "Total number of characters: 61\n",
      "['e', 'ú', '4', 'z', 'j', 'ŕ', 'ć', 's', 'k', 'ô', '–', 'n', 'r', 'v', 'p', '—', 'ő', 'o', 'q', 'é', 'm', '8', 'h', '5', 'a', '7', 'ű', 'w', 't', '…', 'u', 'ď', '6', '1', 'ă', 'ç', 'â', 'í', '0', '3', '9', 'ń', '2', 'ó', 'g', 'l', 'f', '‘', 'á', 'i', 'ö', 'ę', 'ü', '˝', \"'\", 'c', 'č', 'b', 'x', 'y', 'd']\n"
     ]
    }
   ],
   "source": [
    "chars = get_all_characters(all_reviews)\n",
    "\n",
    "NUM_CHARS = len(chars)\n",
    "print('Total number of characters: {}\\n{}'.format(NUM_CHARS, chars))"
   ]
  },
  {
   "cell_type": "code",
   "execution_count": 22,
   "metadata": {},
   "outputs": [],
   "source": [
    "char_to_num = {chars[i]: i for i in range(NUM_CHARS)}\n",
    "num_to_char = {i: chars[i] for i in range(NUM_CHARS)}"
   ]
  },
  {
   "cell_type": "markdown",
   "metadata": {},
   "source": [
    "Find the maximum length of review -- padding"
   ]
  },
  {
   "cell_type": "code",
   "execution_count": 23,
   "metadata": {},
   "outputs": [],
   "source": [
    "def get_max_len(df):\n",
    "    all_lenghts = []\n",
    "    for review in df.review:\n",
    "        all_lenghts.append(len(list(review)))\n",
    "    return max(all_lenghts)"
   ]
  },
  {
   "cell_type": "code",
   "execution_count": 27,
   "metadata": {},
   "outputs": [
    {
     "data": {
      "text/plain": [
       "(269, 267)"
      ]
     },
     "execution_count": 27,
     "metadata": {},
     "output_type": "execute_result"
    }
   ],
   "source": [
    "MAX_LEN_POS = get_max_len(pos_review)\n",
    "MAX_LEN_NEG = get_max_len(neg_review)\n",
    "\n",
    "MAX_LEN_POS, MAX_LEN_NEG"
   ]
  },
  {
   "cell_type": "code",
   "execution_count": 28,
   "metadata": {},
   "outputs": [
    {
     "name": "stdout",
     "output_type": "stream",
     "text": [
      "Maximum length of review: 269 (in characters)\n"
     ]
    }
   ],
   "source": [
    "MAX_LEN = get_max_len(all_reviews)\n",
    "print('Maximum length of review: {} (in characters)'.format(MAX_LEN))"
   ]
  },
  {
   "cell_type": "code",
   "execution_count": 126,
   "metadata": {},
   "outputs": [],
   "source": [
    "from stop_words import get_stop_words\n",
    "\n",
    "def review_to_one_hot(char):\n",
    "    one_hot = [0] * NUM_CHARS\n",
    "    pos = char_to_num[char]\n",
    "    one_hot[pos] = 1\n",
    "    return one_hot\n",
    "\n",
    "def process_review(review, pad=True, max_len=MAX_LEN):\n",
    "    review = tf.keras.preprocessing.text.text_to_word_sequence(review)\n",
    "    review = [word for word in review if word not in get_stop_words('english')]\n",
    "    review = [list(s) for s in review] # to characters\n",
    "    review = functools.reduce(operator.iconcat, review, [])\n",
    "    review_one_hot = [review_to_one_hot(char) for char in review]\n",
    "    if pad:\n",
    "        # append 0 value padding\n",
    "        while len(review_one_hot) < max_len:\n",
    "            review_one_hot.append([0] * NUM_CHARS)\n",
    "    review_one_hot = review_one_hot[:max_len] # trucate to max length\n",
    "    return review_one_hot"
   ]
  },
  {
   "cell_type": "code",
   "execution_count": 127,
   "metadata": {},
   "outputs": [
    {
     "data": {
      "image/png": "[encoded data removed]",
      "text/plain": [
       "<Figure size 720x864 with 2 Axes>"
      ]
     },
     "metadata": {
      "needs_background": "light"
     },
     "output_type": "display_data"
    }
   ],
   "source": [
    "plt.figure(figsize=(10, 12))\n",
    "plt.subplot(1, 2, 1)\n",
    "plt.title(neg_review.review.iloc[2345])\n",
    "plt.imshow([p for p in process_review(neg_review.review.iloc[2345], max_len=100)], cmap='gray')\n",
    "plt.axis('off')\n",
    "\n",
    "plt.subplot(1, 2, 2)\n",
    "plt.title(pos_review.review.iloc[2345], y=-0.05)\n",
    "plt.imshow([p for p in process_review(pos_review.review.iloc[2345], max_len=100)], cmap='gray')\n",
    "plt.axis('off')\n",
    "\n",
    "plt.show()"
   ]
  },
  {
   "cell_type": "code",
   "execution_count": 128,
   "metadata": {},
   "outputs": [],
   "source": [
    "MAX_LEN_SEQ = 50 # in characters\n",
    "\n",
    "processed_review = all_reviews.review.apply(lambda review: process_review(review, max_len=MAX_LEN_SEQ))"
   ]
  },
  {
   "cell_type": "code",
   "execution_count": 129,
   "metadata": {},
   "outputs": [],
   "source": [
    "from sklearn.model_selection import train_test_split\n",
    "\n",
    "\n",
    "X = processed_review.to_numpy().tolist()\n",
    "y = all_reviews.sentiment.values\n",
    "\n",
    "X_train, X_test, y_train, y_test = train_test_split(X, y, test_size=0.1, random_state=42)"
   ]
  },
  {
   "cell_type": "code",
   "execution_count": 130,
   "metadata": {},
   "outputs": [],
   "source": [
    "X_train = tf.convert_to_tensor(X_train)\n",
    "y_train = tf.convert_to_tensor(y_train)\n",
    "X_test = tf.convert_to_tensor(X_test)\n",
    "y_test = tf.convert_to_tensor(y_test)"
   ]
  },
  {
   "cell_type": "code",
   "execution_count": 131,
   "metadata": {},
   "outputs": [],
   "source": [
    "X_train_reshaped = tf.reshape(X_train, [X_train.shape[0], X_train.shape[2], X_train.shape[1], 1]) # one channel (black or white)\n",
    "X_test_reshaped = tf.reshape(X_test, [X_test.shape[0], X_test.shape[2], X_test.shape[1], 1])"
   ]
  },
  {
   "cell_type": "code",
   "execution_count": 132,
   "metadata": {},
   "outputs": [
    {
     "data": {
      "text/plain": [
       "(TensorShape([9595, 61, 50, 1]),\n",
       " TensorShape([1067, 61, 50, 1]),\n",
       " TensorShape([9595]),\n",
       " TensorShape([1067]))"
      ]
     },
     "execution_count": 132,
     "metadata": {},
     "output_type": "execute_result"
    }
   ],
   "source": [
    "X_train_reshaped.shape, X_test_reshaped.shape, y_train.shape, y_test.shape"
   ]
  },
  {
   "cell_type": "code",
   "execution_count": 152,
   "metadata": {},
   "outputs": [],
   "source": [
    "model = tf.keras.Sequential([\n",
    "    tf.keras.layers.Conv2D(32, (3, 3), activation='relu', input_shape=(NUM_CHARS, MAX_LEN_SEQ, 1)),\n",
    "    tf.keras.layers.MaxPool2D((2, 2)),\n",
    "#     tf.keras.layers.Conv2D(64, (3, 3), activation='relu'),\n",
    "#     tf.keras.layers.MaxPool2D((2, 2)),\n",
    "#     tf.keras.layers.Conv2D(64, (3, 3), activation='relu'),\n",
    "#     tf.keras.layers.MaxPooling2D((2, 2)),\n",
    "#     tf.keras.layers.Conv2D(64, (2, 2), activation='relu'),\n",
    "    tf.keras.layers.Flatten(),\n",
    "    tf.keras.layers.Dropout(0.5),\n",
    "    tf.keras.layers.Dense(128, activation='relu'),\n",
    "#     tf.keras.layers.Dropout(0.3),\n",
    "    tf.keras.layers.Dense(1, activation='sigmoid')\n",
    "])"
   ]
  },
  {
   "cell_type": "code",
   "execution_count": 153,
   "metadata": {},
   "outputs": [
    {
     "name": "stdout",
     "output_type": "stream",
     "text": [
      "Model: \"sequential_7\"\n",
      "_________________________________________________________________\n",
      "Layer (type)                 Output Shape              Param #   \n",
      "=================================================================\n",
      "conv2d_23 (Conv2D)           (None, 59, 48, 32)        320       \n",
      "_________________________________________________________________\n",
      "max_pooling2d_18 (MaxPooling (None, 29, 24, 32)        0         \n",
      "_________________________________________________________________\n",
      "flatten_7 (Flatten)          (None, 22272)             0         \n",
      "_________________________________________________________________\n",
      "dropout_10 (Dropout)         (None, 22272)             0         \n",
      "_________________________________________________________________\n",
      "dense_14 (Dense)             (None, 128)               2850944   \n",
      "_________________________________________________________________\n",
      "dense_15 (Dense)             (None, 1)                 129       \n",
      "=================================================================\n",
      "Total params: 2,851,393\n",
      "Trainable params: 2,851,393\n",
      "Non-trainable params: 0\n",
      "_________________________________________________________________\n"
     ]
    }
   ],
   "source": [
    "model.summary()"
   ]
  },
  {
   "cell_type": "code",
   "execution_count": 154,
   "metadata": {},
   "outputs": [],
   "source": [
    "model.compile(optimizer='adam', loss='binary_crossentropy', metrics=['accuracy'])"
   ]
  },
  {
   "cell_type": "code",
   "execution_count": 155,
   "metadata": {},
   "outputs": [
    {
     "name": "stdout",
     "output_type": "stream",
     "text": [
      "Train on 9595 samples, validate on 1067 samples\n",
      "Epoch 1/20\n",
      "9595/9595 [==============================] - 3s 292us/sample - loss: 0.6941 - accuracy: 0.5158 - val_loss: 0.6902 - val_accuracy: 0.5173\n",
      "Epoch 2/20\n",
      "9595/9595 [==============================] - 2s 227us/sample - loss: 0.6778 - accuracy: 0.5732 - val_loss: 0.6905 - val_accuracy: 0.5192\n",
      "Epoch 3/20\n",
      "9595/9595 [==============================] - 2s 227us/sample - loss: 0.6566 - accuracy: 0.6110 - val_loss: 0.7068 - val_accuracy: 0.5220\n",
      "Epoch 4/20\n",
      "9595/9595 [==============================] - 2s 228us/sample - loss: 0.6250 - accuracy: 0.6468 - val_loss: 0.7036 - val_accuracy: 0.5305\n",
      "Epoch 5/20\n",
      "9595/9595 [==============================] - 2s 227us/sample - loss: 0.5641 - accuracy: 0.7096 - val_loss: 0.7589 - val_accuracy: 0.5276\n",
      "Epoch 6/20\n",
      "9595/9595 [==============================] - 2s 227us/sample - loss: 0.4573 - accuracy: 0.7871 - val_loss: 0.8026 - val_accuracy: 0.5361\n",
      "Epoch 7/20\n",
      "9595/9595 [==============================] - 2s 230us/sample - loss: 0.3218 - accuracy: 0.8732 - val_loss: 0.9393 - val_accuracy: 0.5492\n",
      "Epoch 8/20\n",
      "9595/9595 [==============================] - 2s 226us/sample - loss: 0.2068 - accuracy: 0.9322 - val_loss: 1.0312 - val_accuracy: 0.5670\n",
      "Epoch 9/20\n",
      "9595/9595 [==============================] - 2s 229us/sample - loss: 0.1219 - accuracy: 0.9666 - val_loss: 1.2081 - val_accuracy: 0.5595\n",
      "Epoch 10/20\n",
      "9595/9595 [==============================] - 2s 228us/sample - loss: 0.0762 - accuracy: 0.9807 - val_loss: 1.3259 - val_accuracy: 0.5492\n",
      "Epoch 11/20\n",
      "9595/9595 [==============================] - 2s 230us/sample - loss: 0.0538 - accuracy: 0.9883 - val_loss: 1.4085 - val_accuracy: 0.5520\n",
      "Epoch 12/20\n",
      "9595/9595 [==============================] - 2s 228us/sample - loss: 0.0371 - accuracy: 0.9919 - val_loss: 1.5147 - val_accuracy: 0.5586\n",
      "Epoch 13/20\n",
      "9595/9595 [==============================] - 2s 226us/sample - loss: 0.0281 - accuracy: 0.9936 - val_loss: 1.6143 - val_accuracy: 0.5398\n",
      "Epoch 14/20\n",
      "9595/9595 [==============================] - 2s 229us/sample - loss: 0.0224 - accuracy: 0.9962 - val_loss: 1.6978 - val_accuracy: 0.5530\n",
      "Epoch 15/20\n",
      "9595/9595 [==============================] - 2s 227us/sample - loss: 0.0209 - accuracy: 0.9950 - val_loss: 1.7562 - val_accuracy: 0.5633\n",
      "Epoch 16/20\n",
      "9595/9595 [==============================] - 2s 231us/sample - loss: 0.0171 - accuracy: 0.9966 - val_loss: 1.8560 - val_accuracy: 0.5576\n",
      "Epoch 17/20\n",
      "9595/9595 [==============================] - 2s 228us/sample - loss: 0.0180 - accuracy: 0.9959 - val_loss: 1.8470 - val_accuracy: 0.5623\n",
      "Epoch 18/20\n",
      "9595/9595 [==============================] - 2s 229us/sample - loss: 0.0139 - accuracy: 0.9974 - val_loss: 1.8297 - val_accuracy: 0.5539\n",
      "Epoch 19/20\n",
      "9595/9595 [==============================] - 2s 228us/sample - loss: 0.0151 - accuracy: 0.9967 - val_loss: 1.9844 - val_accuracy: 0.5548\n",
      "Epoch 20/20\n",
      "9595/9595 [==============================] - 2s 233us/sample - loss: 0.0116 - accuracy: 0.9972 - val_loss: 2.0930 - val_accuracy: 0.5473\n"
     ]
    }
   ],
   "source": [
    "BATCH_SIZE = 128\n",
    "\n",
    "history = model.fit(X_train_reshaped, \n",
    "                    y_train, \n",
    "                    epochs=20, \n",
    "                    batch_size=BATCH_SIZE,\n",
    "                    validation_data=(X_test_reshaped, y_test))"
   ]
  },
  {
   "cell_type": "code",
   "execution_count": 156,
   "metadata": {},
   "outputs": [],
   "source": [
    "def predict(review, max_len=MAX_LEN_SEQ, shape=(MAX_LEN_SEQ, NUM_CHARS, 1)):\n",
    "    input_ = [p for p in process_review(review, max_len=max_len)]\n",
    "    input_ = tf.cast(input_, tf.float32)\n",
    "    input_ = tf.reshape(input_, shape)\n",
    "    input_ = input_[np.newaxis, ...]\n",
    "    prediction = model.predict(input_)[0][0]\n",
    "    print(prediction)\n",
    "    if prediction > 0.5:\n",
    "        print('Positive review with probability: {:.2f}%'.format(prediction * 100))\n",
    "    else:\n",
    "        print('Negative review with probability: {:.2f}%'.format(100 - prediction * 100))"
   ]
  },
  {
   "cell_type": "code",
   "execution_count": 161,
   "metadata": {},
   "outputs": [
    {
     "name": "stdout",
     "output_type": "stream",
     "text": [
      "0.89844036\n",
      "Positive review with probability: 89.84%\n"
     ]
    }
   ],
   "source": [
    "shape = (NUM_CHARS, MAX_LEN_SEQ, 1)\n",
    "predict('this film is amazing. I hope to see it once again in the future.', shape=shape)"
   ]
  },
  {
   "cell_type": "code",
   "execution_count": 162,
   "metadata": {},
   "outputs": [
    {
     "name": "stdout",
     "output_type": "stream",
     "text": [
      "0.00019111196\n",
      "Negative review with probability: 99.98%\n"
     ]
    }
   ],
   "source": [
    "predict('one of the worse film i have ever seen, do not recommend!', shape=shape)"
   ]
  },
  {
   "cell_type": "code",
   "execution_count": 163,
   "metadata": {},
   "outputs": [
    {
     "name": "stdout",
     "output_type": "stream",
     "text": [
      "7.966275e-05\n",
      "Negative review with probability: 99.99%\n"
     ]
    }
   ],
   "source": [
    "predict(\"i really don't like this film\", shape=shape)"
   ]
  },
  {
   "cell_type": "code",
   "execution_count": 164,
   "metadata": {},
   "outputs": [
    {
     "name": "stdout",
     "output_type": "stream",
     "text": [
      "0.8576071\n",
      "Positive review with probability: 85.76%\n"
     ]
    }
   ],
   "source": [
    "predict(\"\"\"\n",
    "Excellent play for the main actor, Mario Casas, but even better for the lawyer, Ana Wagener.\n",
    "\"\"\", shape=shape)"
   ]
  },
  {
   "cell_type": "code",
   "execution_count": 167,
   "metadata": {},
   "outputs": [],
   "source": [
    "model.save_weights('models/cnn_chars_61x50')"
   ]
  },
  {
   "cell_type": "code",
   "execution_count": 169,
   "metadata": {},
   "outputs": [
    {
     "name": "stdout",
     "output_type": "stream",
     "text": [
      "0\tmodels/.ipynb_checkpoints\n",
      "33M\tmodels\n"
     ]
    }
   ],
   "source": [
    "!du -h models"
   ]
  }
 ],
 "metadata": {
  "kernelspec": {
   "display_name": "Python 3",
   "language": "python",
   "name": "python3"
  },
  "language_info": {
   "codemirror_mode": {
    "name": "ipython",
    "version": 3
   },
   "file_extension": ".py",
   "mimetype": "text/x-python",
   "name": "python",
   "nbconvert_exporter": "python",
   "pygments_lexer": "ipython3",
   "version": "3.7.3"
  }
 },
 "nbformat": 4,
 "nbformat_minor": 4
}
