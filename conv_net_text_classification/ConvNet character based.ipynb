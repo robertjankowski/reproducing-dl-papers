{
 "cells": [
  {
   "cell_type": "code",
   "execution_count": 2,
   "metadata": {},
   "outputs": [],
   "source": [
    "import tensorflow as tf\n",
    "import numpy as np\n",
    "import pandas as pd\n",
    "import matplotlib.pyplot as plt\n",
    "\n",
    "import os\n",
    "\n",
    "from IPython import display"
   ]
  },
  {
   "cell_type": "code",
   "execution_count": 3,
   "metadata": {},
   "outputs": [
    {
     "data": {
      "text/html": [
       "<div>\n",
       "<style scoped>\n",
       "    .dataframe tbody tr th:only-of-type {\n",
       "        vertical-align: middle;\n",
       "    }\n",
       "\n",
       "    .dataframe tbody tr th {\n",
       "        vertical-align: top;\n",
       "    }\n",
       "\n",
       "    .dataframe thead th {\n",
       "        text-align: right;\n",
       "    }\n",
       "</style>\n",
       "<table border=\"1\" class=\"dataframe\">\n",
       "  <thead>\n",
       "    <tr style=\"text-align: right;\">\n",
       "      <th></th>\n",
       "      <th>review</th>\n",
       "      <th>sentiment</th>\n",
       "    </tr>\n",
       "  </thead>\n",
       "  <tbody>\n",
       "    <tr>\n",
       "      <th>0</th>\n",
       "      <td>the rock is destined to be the 21st century's ...</td>\n",
       "      <td>1</td>\n",
       "    </tr>\n",
       "    <tr>\n",
       "      <th>1</th>\n",
       "      <td>the gorgeously elaborate continuation of \" the...</td>\n",
       "      <td>1</td>\n",
       "    </tr>\n",
       "    <tr>\n",
       "      <th>2</th>\n",
       "      <td>effective but too-tepid biopic</td>\n",
       "      <td>1</td>\n",
       "    </tr>\n",
       "    <tr>\n",
       "      <th>3</th>\n",
       "      <td>if you sometimes like to go to the movies to h...</td>\n",
       "      <td>1</td>\n",
       "    </tr>\n",
       "    <tr>\n",
       "      <th>4</th>\n",
       "      <td>emerges as something rare , an issue movie tha...</td>\n",
       "      <td>1</td>\n",
       "    </tr>\n",
       "  </tbody>\n",
       "</table>\n",
       "</div>"
      ],
      "text/plain": [
       "                                              review  sentiment\n",
       "0  the rock is destined to be the 21st century's ...          1\n",
       "1  the gorgeously elaborate continuation of \" the...          1\n",
       "2                     effective but too-tepid biopic          1\n",
       "3  if you sometimes like to go to the movies to h...          1\n",
       "4  emerges as something rare , an issue movie tha...          1"
      ]
     },
     "metadata": {},
     "output_type": "display_data"
    },
    {
     "data": {
      "text/html": [
       "<div>\n",
       "<style scoped>\n",
       "    .dataframe tbody tr th:only-of-type {\n",
       "        vertical-align: middle;\n",
       "    }\n",
       "\n",
       "    .dataframe tbody tr th {\n",
       "        vertical-align: top;\n",
       "    }\n",
       "\n",
       "    .dataframe thead th {\n",
       "        text-align: right;\n",
       "    }\n",
       "</style>\n",
       "<table border=\"1\" class=\"dataframe\">\n",
       "  <thead>\n",
       "    <tr style=\"text-align: right;\">\n",
       "      <th></th>\n",
       "      <th>review</th>\n",
       "      <th>sentiment</th>\n",
       "    </tr>\n",
       "  </thead>\n",
       "  <tbody>\n",
       "    <tr>\n",
       "      <th>0</th>\n",
       "      <td>simplistic , silly and tedious .</td>\n",
       "      <td>0</td>\n",
       "    </tr>\n",
       "    <tr>\n",
       "      <th>1</th>\n",
       "      <td>it's so laddish and juvenile , only teenage bo...</td>\n",
       "      <td>0</td>\n",
       "    </tr>\n",
       "    <tr>\n",
       "      <th>2</th>\n",
       "      <td>exploitative and largely devoid of the depth o...</td>\n",
       "      <td>0</td>\n",
       "    </tr>\n",
       "    <tr>\n",
       "      <th>3</th>\n",
       "      <td>[garbus] discards the potential for pathologic...</td>\n",
       "      <td>0</td>\n",
       "    </tr>\n",
       "    <tr>\n",
       "      <th>4</th>\n",
       "      <td>a visually flashy but narratively opaque and e...</td>\n",
       "      <td>0</td>\n",
       "    </tr>\n",
       "  </tbody>\n",
       "</table>\n",
       "</div>"
      ],
      "text/plain": [
       "                                              review  sentiment\n",
       "0                  simplistic , silly and tedious .           0\n",
       "1  it's so laddish and juvenile , only teenage bo...          0\n",
       "2  exploitative and largely devoid of the depth o...          0\n",
       "3  [garbus] discards the potential for pathologic...          0\n",
       "4  a visually flashy but narratively opaque and e...          0"
      ]
     },
     "metadata": {},
     "output_type": "display_data"
    }
   ],
   "source": [
    "path = \"rt-polaritydata/rt-polaritydata/\"\n",
    "\n",
    "pos_path = os.path.join(path, 'rt-polarity.pos')\n",
    "neg_path = os.path.join(path, 'rt-polarity.neg')\n",
    "\n",
    "def load_review(path, is_pos=True):\n",
    "    with open(path) as f:\n",
    "        review = pd.DataFrame({'review':f.read().splitlines()})\n",
    "    review['sentiment'] = 1 if is_pos else 0\n",
    "    return review\n",
    "\n",
    "pos_review = load_review(pos_path, is_pos=True)\n",
    "neg_review = load_review(neg_path, is_pos=False)\n",
    "\n",
    "display.display(pos_review.head(), neg_review.head())"
   ]
  },
  {
   "cell_type": "code",
   "execution_count": 3,
   "metadata": {},
   "outputs": [
    {
     "data": {
      "text/html": [
       "<div>\n",
       "<style scoped>\n",
       "    .dataframe tbody tr th:only-of-type {\n",
       "        vertical-align: middle;\n",
       "    }\n",
       "\n",
       "    .dataframe tbody tr th {\n",
       "        vertical-align: top;\n",
       "    }\n",
       "\n",
       "    .dataframe thead th {\n",
       "        text-align: right;\n",
       "    }\n",
       "</style>\n",
       "<table border=\"1\" class=\"dataframe\">\n",
       "  <thead>\n",
       "    <tr style=\"text-align: right;\">\n",
       "      <th></th>\n",
       "      <th>review</th>\n",
       "      <th>sentiment</th>\n",
       "    </tr>\n",
       "  </thead>\n",
       "  <tbody>\n",
       "    <tr>\n",
       "      <th>0</th>\n",
       "      <td>the rock is destined to be the 21st century's ...</td>\n",
       "      <td>1</td>\n",
       "    </tr>\n",
       "    <tr>\n",
       "      <th>1</th>\n",
       "      <td>the gorgeously elaborate continuation of \" the...</td>\n",
       "      <td>1</td>\n",
       "    </tr>\n",
       "    <tr>\n",
       "      <th>2</th>\n",
       "      <td>effective but too-tepid biopic</td>\n",
       "      <td>1</td>\n",
       "    </tr>\n",
       "    <tr>\n",
       "      <th>3</th>\n",
       "      <td>if you sometimes like to go to the movies to h...</td>\n",
       "      <td>1</td>\n",
       "    </tr>\n",
       "    <tr>\n",
       "      <th>4</th>\n",
       "      <td>emerges as something rare , an issue movie tha...</td>\n",
       "      <td>1</td>\n",
       "    </tr>\n",
       "  </tbody>\n",
       "</table>\n",
       "</div>"
      ],
      "text/plain": [
       "                                              review  sentiment\n",
       "0  the rock is destined to be the 21st century's ...          1\n",
       "1  the gorgeously elaborate continuation of \" the...          1\n",
       "2                     effective but too-tepid biopic          1\n",
       "3  if you sometimes like to go to the movies to h...          1\n",
       "4  emerges as something rare , an issue movie tha...          1"
      ]
     },
     "execution_count": 3,
     "metadata": {},
     "output_type": "execute_result"
    }
   ],
   "source": [
    "all_reviews = pd.concat([pos_review, neg_review])\n",
    "all_reviews.head()"
   ]
  },
  {
   "cell_type": "code",
   "execution_count": 4,
   "metadata": {},
   "outputs": [],
   "source": [
    "import functools\n",
    "import operator\n",
    "\n",
    "def get_all_characters(df):\n",
    "    chars = []\n",
    "    for review in df.review:\n",
    "        chars.append(list(review))\n",
    "    chars = functools.reduce(operator.iconcat, chars, [])\n",
    "    return list(set(chars))"
   ]
  },
  {
   "cell_type": "code",
   "execution_count": 5,
   "metadata": {},
   "outputs": [
    {
     "name": "stdout",
     "output_type": "stream",
     "text": [
      "Total number of characters: 87\n",
      "['č', '(', '—', '*', '%', 'b', '3', 'ő', '1', '=', '!', ',', '4', '<', 's', 'r', '[', 'g', '+', 'ŕ', 'i', 'â', 'c', 'ń', 'a', 'ď', 'ę', 'é', '$', '0', 'ú', ' ', \"'\", 'y', 'h', 'ă', 'p', '\"', 'l', 'd', '/', '7', '˝', 'ó', '–', ';', 'ü', 'k', 'Ú', '…', '#', 'v', 'u', 'w', '&', '5', 'm', '6', 'z', 'o', '-', '8', '`', 'f', '?', 'q', 'e', '>', '‘', 'í', 'ű', 'É', 'ç', 'á', '.', '9', ':', ']', 'ö', 'n', 'ć', 'j', ')', 't', 'ô', '2', 'x']\n"
     ]
    }
   ],
   "source": [
    "chars = get_all_characters(all_reviews)\n",
    "\n",
    "NUM_CHARS = len(chars)\n",
    "print('Total number of characters: {}\\n{}'.format(NUM_CHARS, chars))"
   ]
  },
  {
   "cell_type": "code",
   "execution_count": 6,
   "metadata": {},
   "outputs": [],
   "source": [
    "char_to_num = {chars[i]: i for i in range(NUM_CHARS)}\n",
    "num_to_char = {i: chars[i] for i in range(NUM_CHARS)}"
   ]
  },
  {
   "cell_type": "markdown",
   "metadata": {},
   "source": [
    "Find the maximum length of review -- padding"
   ]
  },
  {
   "cell_type": "code",
   "execution_count": 7,
   "metadata": {},
   "outputs": [],
   "source": [
    "def get_max_len(df):\n",
    "    all_lenghts = []\n",
    "    for review in df.review:\n",
    "        all_lenghts.append(len(list(review)))\n",
    "    return max(all_lenghts)"
   ]
  },
  {
   "cell_type": "code",
   "execution_count": 8,
   "metadata": {},
   "outputs": [
    {
     "name": "stdout",
     "output_type": "stream",
     "text": [
      "Maximum length of review: 269 (in characters)\n"
     ]
    }
   ],
   "source": [
    "MAX_LEN = get_max_len(all_reviews)\n",
    "print('Maximum length of review: {} (in characters)'.format(MAX_LEN))"
   ]
  },
  {
   "cell_type": "code",
   "execution_count": 9,
   "metadata": {},
   "outputs": [],
   "source": [
    "def review_to_one_hot(char):\n",
    "    one_hot = [0] * NUM_CHARS\n",
    "    pos = char_to_num[char]\n",
    "    one_hot[pos] = 1\n",
    "    return one_hot\n",
    "\n",
    "def process_review(review, pad=True):\n",
    "    review = list(review) # to characters\n",
    "    review_one_hot = [review_to_one_hot(char) for char in review]\n",
    "    if pad:\n",
    "        # append 0 value padding\n",
    "        while len(review_one_hot) < MAX_LEN:\n",
    "            review_one_hot.append([0] * NUM_CHARS)\n",
    "    return review_one_hot"
   ]
  },
  {
   "cell_type": "code",
   "execution_count": 10,
   "metadata": {},
   "outputs": [
    {
     "data": {
      "image/png": "[encoded data removed]",
      "text/plain": [
       "<Figure size 720x864 with 2 Axes>"
      ]
     },
     "metadata": {
      "needs_background": "light"
     },
     "output_type": "display_data"
    }
   ],
   "source": [
    "plt.figure(figsize=(10, 12))\n",
    "plt.subplot(1, 2, 1)\n",
    "plt.title(neg_review.review.iloc[2345])\n",
    "plt.imshow([p for p in process_review(neg_review.review.iloc[2345])], cmap='gray')\n",
    "plt.axis('off')\n",
    "\n",
    "plt.subplot(1, 2, 2)\n",
    "plt.title(pos_review.review.iloc[2345], y=-0.05)\n",
    "plt.imshow([p for p in process_review(pos_review.review.iloc[2345])], cmap='gray')\n",
    "plt.axis('off')\n",
    "\n",
    "plt.show()"
   ]
  },
  {
   "cell_type": "markdown",
   "metadata": {},
   "source": [
    "Data in format: 87x269"
   ]
  },
  {
   "cell_type": "code",
   "execution_count": 11,
   "metadata": {},
   "outputs": [],
   "source": [
    "processed_review = all_reviews.review.apply(lambda review: process_review(review))"
   ]
  },
  {
   "cell_type": "code",
   "execution_count": 12,
   "metadata": {},
   "outputs": [],
   "source": [
    "from sklearn.model_selection import train_test_split\n",
    "\n",
    "\n",
    "X = processed_review.to_numpy().tolist()\n",
    "y = all_reviews.sentiment.values\n",
    "\n",
    "X_train, X_test, y_train, y_test = train_test_split(X, y, test_size=0.1, random_state=42)"
   ]
  },
  {
   "cell_type": "code",
   "execution_count": 13,
   "metadata": {},
   "outputs": [],
   "source": [
    "X_train = tf.convert_to_tensor(X_train)\n",
    "y_train = tf.convert_to_tensor(y_train)\n",
    "X_test = tf.convert_to_tensor(X_test)\n",
    "y_test = tf.convert_to_tensor(y_test)"
   ]
  },
  {
   "cell_type": "code",
   "execution_count": 14,
   "metadata": {},
   "outputs": [],
   "source": [
    "X_train_reshaped = tf.reshape(X_train, [X_train.shape[0], X_train.shape[1], X_train.shape[2], 1]) # one channel (black or white)\n",
    "X_test_reshaped = tf.reshape(X_test, [X_test.shape[0], X_test.shape[1], X_test.shape[2], 1])"
   ]
  },
  {
   "cell_type": "code",
   "execution_count": 15,
   "metadata": {},
   "outputs": [
    {
     "data": {
      "text/plain": [
       "(TensorShape([9595, 269, 87, 1]),\n",
       " TensorShape([1067, 269, 87, 1]),\n",
       " TensorShape([9595]),\n",
       " TensorShape([1067]))"
      ]
     },
     "execution_count": 15,
     "metadata": {},
     "output_type": "execute_result"
    }
   ],
   "source": [
    "X_train_reshaped.shape, X_test_reshaped.shape, y_train.shape, y_test.shape"
   ]
  },
  {
   "cell_type": "code",
   "execution_count": 161,
   "metadata": {},
   "outputs": [],
   "source": [
    "model = tf.keras.Sequential([\n",
    "    tf.keras.layers.Conv2D(32, (3, 3), activation='relu', input_shape=(MAX_LEN, NUM_CHARS, 1)),\n",
    "    tf.keras.layers.MaxPool2D((2, 2)),\n",
    "    tf.keras.layers.Conv2D(64, (3, 3), activation='relu'),\n",
    "    tf.keras.layers.MaxPool2D((2, 2)),\n",
    "    tf.keras.layers.Conv2D(64, (3, 3), activation='relu'),\n",
    "    tf.keras.layers.MaxPooling2D((2, 2)),\n",
    "    tf.keras.layers.Conv2D(64, (2, 2), activation='relu'),\n",
    "    tf.keras.layers.Flatten(),\n",
    "    tf.keras.layers.Dropout(0.3),\n",
    "    tf.keras.layers.Dense(128, activation='relu'),\n",
    "    tf.keras.layers.Dropout(0.3),\n",
    "    tf.keras.layers.Dense(1, activation='sigmoid')\n",
    "])"
   ]
  },
  {
   "cell_type": "code",
   "execution_count": 162,
   "metadata": {},
   "outputs": [
    {
     "name": "stdout",
     "output_type": "stream",
     "text": [
      "Model: \"sequential_23\"\n",
      "_________________________________________________________________\n",
      "Layer (type)                 Output Shape              Param #   \n",
      "=================================================================\n",
      "conv2d_94 (Conv2D)           (None, 267, 85, 32)       320       \n",
      "_________________________________________________________________\n",
      "max_pooling2d_67 (MaxPooling (None, 133, 42, 32)       0         \n",
      "_________________________________________________________________\n",
      "conv2d_95 (Conv2D)           (None, 131, 40, 64)       18496     \n",
      "_________________________________________________________________\n",
      "max_pooling2d_68 (MaxPooling (None, 65, 20, 64)        0         \n",
      "_________________________________________________________________\n",
      "conv2d_96 (Conv2D)           (None, 63, 18, 64)        36928     \n",
      "_________________________________________________________________\n",
      "max_pooling2d_69 (MaxPooling (None, 31, 9, 64)         0         \n",
      "_________________________________________________________________\n",
      "conv2d_97 (Conv2D)           (None, 30, 8, 64)         16448     \n",
      "_________________________________________________________________\n",
      "flatten_24 (Flatten)         (None, 15360)             0         \n",
      "_________________________________________________________________\n",
      "dropout_13 (Dropout)         (None, 15360)             0         \n",
      "_________________________________________________________________\n",
      "dense_50 (Dense)             (None, 128)               1966208   \n",
      "_________________________________________________________________\n",
      "dropout_14 (Dropout)         (None, 128)               0         \n",
      "_________________________________________________________________\n",
      "dense_51 (Dense)             (None, 1)                 129       \n",
      "=================================================================\n",
      "Total params: 2,038,529\n",
      "Trainable params: 2,038,529\n",
      "Non-trainable params: 0\n",
      "_________________________________________________________________\n"
     ]
    }
   ],
   "source": [
    "model.summary()"
   ]
  },
  {
   "cell_type": "code",
   "execution_count": 163,
   "metadata": {},
   "outputs": [],
   "source": [
    "model.compile(optimizer='adam', loss='binary_crossentropy', metrics=['accuracy'])"
   ]
  },
  {
   "cell_type": "code",
   "execution_count": 164,
   "metadata": {},
   "outputs": [
    {
     "name": "stdout",
     "output_type": "stream",
     "text": [
      "Train on 9595 samples, validate on 1067 samples\n",
      "Epoch 1/40\n",
      "9595/9595 [==============================] - 24s 2ms/sample - loss: 0.6936 - accuracy: 0.5011 - val_loss: 0.6929 - val_accuracy: 0.5145\n",
      "Epoch 2/40\n",
      "9595/9595 [==============================] - 23s 2ms/sample - loss: 0.6933 - accuracy: 0.4949 - val_loss: 0.6930 - val_accuracy: 0.5145\n",
      "Epoch 3/40\n",
      "9595/9595 [==============================] - 23s 2ms/sample - loss: 0.6931 - accuracy: 0.5016 - val_loss: 0.6927 - val_accuracy: 0.5230\n",
      "Epoch 4/40\n",
      "9595/9595 [==============================] - 23s 2ms/sample - loss: 0.6929 - accuracy: 0.5241 - val_loss: 0.6927 - val_accuracy: 0.5276\n",
      "Epoch 5/40\n",
      "9595/9595 [==============================] - 23s 2ms/sample - loss: 0.6916 - accuracy: 0.5348 - val_loss: 0.6905 - val_accuracy: 0.5258\n",
      "Epoch 6/40\n",
      "9595/9595 [==============================] - 23s 2ms/sample - loss: 0.6879 - accuracy: 0.5476 - val_loss: 0.6911 - val_accuracy: 0.5248\n",
      "Epoch 7/40\n",
      "9595/9595 [==============================] - 23s 2ms/sample - loss: 0.6827 - accuracy: 0.5585 - val_loss: 0.6851 - val_accuracy: 0.5586\n",
      "Epoch 8/40\n",
      "9595/9595 [==============================] - 23s 2ms/sample - loss: 0.6736 - accuracy: 0.5793 - val_loss: 0.6820 - val_accuracy: 0.5642\n",
      "Epoch 9/40\n",
      "9595/9595 [==============================] - 23s 2ms/sample - loss: 0.6577 - accuracy: 0.6103 - val_loss: 0.6952 - val_accuracy: 0.5698\n",
      "Epoch 10/40\n",
      "9595/9595 [==============================] - 23s 2ms/sample - loss: 0.6331 - accuracy: 0.6400 - val_loss: 0.6924 - val_accuracy: 0.5642\n",
      "Epoch 11/40\n",
      "9595/9595 [==============================] - 23s 2ms/sample - loss: 0.5947 - accuracy: 0.6809 - val_loss: 0.7092 - val_accuracy: 0.5567\n",
      "Epoch 12/40\n",
      "9595/9595 [==============================] - 23s 2ms/sample - loss: 0.5428 - accuracy: 0.7232 - val_loss: 0.7456 - val_accuracy: 0.5642\n",
      "Epoch 13/40\n",
      "9595/9595 [==============================] - 23s 2ms/sample - loss: 0.4831 - accuracy: 0.7660 - val_loss: 0.7768 - val_accuracy: 0.5426\n",
      "Epoch 14/40\n",
      "9595/9595 [==============================] - 23s 2ms/sample - loss: 0.4102 - accuracy: 0.8109 - val_loss: 0.9020 - val_accuracy: 0.5464\n",
      "Epoch 15/40\n",
      "9595/9595 [==============================] - 23s 2ms/sample - loss: 0.3400 - accuracy: 0.8516 - val_loss: 0.9896 - val_accuracy: 0.5286\n",
      "Epoch 16/40\n",
      "9595/9595 [==============================] - 23s 2ms/sample - loss: 0.2825 - accuracy: 0.8782 - val_loss: 1.0749 - val_accuracy: 0.5333\n",
      "Epoch 17/40\n",
      "9595/9595 [==============================] - 23s 2ms/sample - loss: 0.2285 - accuracy: 0.9106 - val_loss: 1.1905 - val_accuracy: 0.5333\n",
      "Epoch 18/40\n",
      "9595/9595 [==============================] - 23s 2ms/sample - loss: 0.1737 - accuracy: 0.9331 - val_loss: 1.2886 - val_accuracy: 0.5408\n",
      "Epoch 19/40\n",
      "9595/9595 [==============================] - 23s 2ms/sample - loss: 0.1456 - accuracy: 0.9442 - val_loss: 1.3605 - val_accuracy: 0.5511\n",
      "Epoch 20/40\n",
      "9595/9595 [==============================] - 23s 2ms/sample - loss: 0.1211 - accuracy: 0.9560 - val_loss: 1.4614 - val_accuracy: 0.5295\n",
      "Epoch 21/40\n",
      "9595/9595 [==============================] - 23s 2ms/sample - loss: 0.1050 - accuracy: 0.9605 - val_loss: 1.4543 - val_accuracy: 0.5389\n",
      "Epoch 22/40\n",
      "9595/9595 [==============================] - 23s 2ms/sample - loss: 0.0922 - accuracy: 0.9663 - val_loss: 1.5038 - val_accuracy: 0.5408\n",
      "Epoch 23/40\n",
      "9595/9595 [==============================] - 23s 2ms/sample - loss: 0.0790 - accuracy: 0.9696 - val_loss: 1.6921 - val_accuracy: 0.5211\n",
      "Epoch 24/40\n",
      "9595/9595 [==============================] - 23s 2ms/sample - loss: 0.0751 - accuracy: 0.9714 - val_loss: 1.5606 - val_accuracy: 0.5314\n",
      "Epoch 25/40\n",
      "9595/9595 [==============================] - 23s 2ms/sample - loss: 0.0729 - accuracy: 0.9724 - val_loss: 1.7152 - val_accuracy: 0.5286\n",
      "Epoch 26/40\n",
      "9595/9595 [==============================] - 23s 2ms/sample - loss: 0.0631 - accuracy: 0.9787 - val_loss: 1.6291 - val_accuracy: 0.5408\n",
      "Epoch 27/40\n",
      "9595/9595 [==============================] - 23s 2ms/sample - loss: 0.0582 - accuracy: 0.9809 - val_loss: 1.6433 - val_accuracy: 0.5323\n",
      "Epoch 28/40\n",
      "9595/9595 [==============================] - 23s 2ms/sample - loss: 0.0571 - accuracy: 0.9805 - val_loss: 1.6796 - val_accuracy: 0.5314\n",
      "Epoch 29/40\n",
      "9595/9595 [==============================] - 23s 2ms/sample - loss: 0.0550 - accuracy: 0.9808 - val_loss: 1.7253 - val_accuracy: 0.5464\n",
      "Epoch 30/40\n",
      "9595/9595 [==============================] - 23s 2ms/sample - loss: 0.0490 - accuracy: 0.9826 - val_loss: 1.8586 - val_accuracy: 0.5426\n",
      "Epoch 31/40\n",
      "9595/9595 [==============================] - 23s 2ms/sample - loss: 0.0495 - accuracy: 0.9829 - val_loss: 1.7791 - val_accuracy: 0.5398\n",
      "Epoch 32/40\n",
      "9595/9595 [==============================] - 23s 2ms/sample - loss: 0.0464 - accuracy: 0.9839 - val_loss: 1.7861 - val_accuracy: 0.5333\n",
      "Epoch 33/40\n",
      "9595/9595 [==============================] - 23s 2ms/sample - loss: 0.0449 - accuracy: 0.9843 - val_loss: 1.8044 - val_accuracy: 0.5248\n",
      "Epoch 34/40\n",
      "9595/9595 [==============================] - 23s 2ms/sample - loss: 0.0422 - accuracy: 0.9855 - val_loss: 1.8132 - val_accuracy: 0.5380\n",
      "Epoch 35/40\n",
      "9595/9595 [==============================] - 23s 2ms/sample - loss: 0.0450 - accuracy: 0.9839 - val_loss: 1.8044 - val_accuracy: 0.5492\n",
      "Epoch 36/40\n",
      "9595/9595 [==============================] - 23s 2ms/sample - loss: 0.0446 - accuracy: 0.9854 - val_loss: 1.9408 - val_accuracy: 0.5483\n",
      "Epoch 37/40\n",
      "9595/9595 [==============================] - 23s 2ms/sample - loss: 0.0399 - accuracy: 0.9857 - val_loss: 2.0170 - val_accuracy: 0.5258\n",
      "Epoch 38/40\n",
      "9595/9595 [==============================] - 23s 2ms/sample - loss: 0.0352 - accuracy: 0.9873 - val_loss: 2.0705 - val_accuracy: 0.5342\n",
      "Epoch 39/40\n",
      "9595/9595 [==============================] - 23s 2ms/sample - loss: 0.0342 - accuracy: 0.9877 - val_loss: 1.9067 - val_accuracy: 0.5342\n",
      "Epoch 40/40\n",
      "9595/9595 [==============================] - 23s 2ms/sample - loss: 0.0384 - accuracy: 0.9869 - val_loss: 1.8716 - val_accuracy: 0.5417\n"
     ]
    }
   ],
   "source": [
    "BATCH_SIZE = 128\n",
    "\n",
    "history = model.fit(X_train_reshaped, \n",
    "                    y_train, \n",
    "                    epochs=40, \n",
    "                    batch_size=BATCH_SIZE,\n",
    "                    validation_data=(X_test_reshaped, y_test))"
   ]
  },
  {
   "cell_type": "code",
   "execution_count": 165,
   "metadata": {},
   "outputs": [],
   "source": [
    "def predict(review):\n",
    "    input_ = [p for p in process_review(review)]\n",
    "    input_ = tf.cast(input_, tf.float32)\n",
    "    input_ = tf.reshape(input_, (MAX_LEN, NUM_CHARS, 1))\n",
    "    input_ = input_[np.newaxis, ...]\n",
    "    prediction = model.predict(input_)[0][0]\n",
    "    print(prediction)\n",
    "    if prediction > 0.5:\n",
    "        print('Positive review with probability: {:.2f}%'.format(prediction * 100))\n",
    "    else:\n",
    "        print('Negative review with probability: {:.2f}%'.format(100 - prediction * 100))"
   ]
  },
  {
   "cell_type": "code",
   "execution_count": 166,
   "metadata": {},
   "outputs": [
    {
     "name": "stdout",
     "output_type": "stream",
     "text": [
      "0.85102016\n",
      "Positive review with probability: 85.10%\n"
     ]
    }
   ],
   "source": [
    "predict('this film is amazing. hope to see once again')"
   ]
  },
  {
   "cell_type": "code",
   "execution_count": 167,
   "metadata": {},
   "outputs": [
    {
     "name": "stdout",
     "output_type": "stream",
     "text": [
      "0.9994692\n",
      "Positive review with probability: 99.95%\n"
     ]
    }
   ],
   "source": [
    "predict('one of the worse film i have ever seen, do not recommend!')"
   ]
  },
  {
   "cell_type": "code",
   "execution_count": 168,
   "metadata": {},
   "outputs": [
    {
     "name": "stdout",
     "output_type": "stream",
     "text": [
      "0.07204846\n",
      "Negative review with probability: 92.80%\n"
     ]
    }
   ],
   "source": [
    "predict(\"i really don't like this film\")"
   ]
  },
  {
   "cell_type": "code",
   "execution_count": null,
   "metadata": {},
   "outputs": [],
   "source": []
  }
 ],
 "metadata": {
  "kernelspec": {
   "display_name": "Python 3",
   "language": "python",
   "name": "python3"
  },
  "language_info": {
   "codemirror_mode": {
    "name": "ipython",
    "version": 3
   },
   "file_extension": ".py",
   "mimetype": "text/x-python",
   "name": "python",
   "nbconvert_exporter": "python",
   "pygments_lexer": "ipython3",
   "version": "3.7.3"
  }
 },
 "nbformat": 4,
 "nbformat_minor": 4
}
