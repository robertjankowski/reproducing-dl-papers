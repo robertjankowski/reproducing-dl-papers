{
 "cells": [
  {
   "cell_type": "code",
   "execution_count": 1,
   "metadata": {},
   "outputs": [],
   "source": [
    "import tensorflow as tf\n",
    "import matplotlib.pyplot as plt\n",
    "import pandas as pd"
   ]
  },
  {
   "cell_type": "code",
   "execution_count": 2,
   "metadata": {},
   "outputs": [
    {
     "data": {
      "text/html": [
       "<div>\n",
       "<style scoped>\n",
       "    .dataframe tbody tr th:only-of-type {\n",
       "        vertical-align: middle;\n",
       "    }\n",
       "\n",
       "    .dataframe tbody tr th {\n",
       "        vertical-align: top;\n",
       "    }\n",
       "\n",
       "    .dataframe thead th {\n",
       "        text-align: right;\n",
       "    }\n",
       "</style>\n",
       "<table border=\"1\" class=\"dataframe\">\n",
       "  <thead>\n",
       "    <tr style=\"text-align: right;\">\n",
       "      <th></th>\n",
       "      <th>Unnamed: 0</th>\n",
       "      <th>count</th>\n",
       "      <th>hate_speech</th>\n",
       "      <th>offensive_language</th>\n",
       "      <th>neither</th>\n",
       "      <th>class</th>\n",
       "      <th>tweet</th>\n",
       "    </tr>\n",
       "  </thead>\n",
       "  <tbody>\n",
       "    <tr>\n",
       "      <td>0</td>\n",
       "      <td>0</td>\n",
       "      <td>3</td>\n",
       "      <td>0</td>\n",
       "      <td>0</td>\n",
       "      <td>3</td>\n",
       "      <td>2</td>\n",
       "      <td>!!! RT @mayasolovely: As a woman you shouldn't...</td>\n",
       "    </tr>\n",
       "    <tr>\n",
       "      <td>1</td>\n",
       "      <td>1</td>\n",
       "      <td>3</td>\n",
       "      <td>0</td>\n",
       "      <td>3</td>\n",
       "      <td>0</td>\n",
       "      <td>1</td>\n",
       "      <td>!!!!! RT @mleew17: boy dats cold...tyga dwn ba...</td>\n",
       "    </tr>\n",
       "    <tr>\n",
       "      <td>2</td>\n",
       "      <td>2</td>\n",
       "      <td>3</td>\n",
       "      <td>0</td>\n",
       "      <td>3</td>\n",
       "      <td>0</td>\n",
       "      <td>1</td>\n",
       "      <td>!!!!!!! RT @UrKindOfBrand Dawg!!!! RT @80sbaby...</td>\n",
       "    </tr>\n",
       "    <tr>\n",
       "      <td>3</td>\n",
       "      <td>3</td>\n",
       "      <td>3</td>\n",
       "      <td>0</td>\n",
       "      <td>2</td>\n",
       "      <td>1</td>\n",
       "      <td>1</td>\n",
       "      <td>!!!!!!!!! RT @C_G_Anderson: @viva_based she lo...</td>\n",
       "    </tr>\n",
       "    <tr>\n",
       "      <td>4</td>\n",
       "      <td>4</td>\n",
       "      <td>6</td>\n",
       "      <td>0</td>\n",
       "      <td>6</td>\n",
       "      <td>0</td>\n",
       "      <td>1</td>\n",
       "      <td>!!!!!!!!!!!!! RT @ShenikaRoberts: The shit you...</td>\n",
       "    </tr>\n",
       "  </tbody>\n",
       "</table>\n",
       "</div>"
      ],
      "text/plain": [
       "   Unnamed: 0  count  hate_speech  offensive_language  neither  class  \\\n",
       "0           0      3            0                   0        3      2   \n",
       "1           1      3            0                   3        0      1   \n",
       "2           2      3            0                   3        0      1   \n",
       "3           3      3            0                   2        1      1   \n",
       "4           4      6            0                   6        0      1   \n",
       "\n",
       "                                               tweet  \n",
       "0  !!! RT @mayasolovely: As a woman you shouldn't...  \n",
       "1  !!!!! RT @mleew17: boy dats cold...tyga dwn ba...  \n",
       "2  !!!!!!! RT @UrKindOfBrand Dawg!!!! RT @80sbaby...  \n",
       "3  !!!!!!!!! RT @C_G_Anderson: @viva_based she lo...  \n",
       "4  !!!!!!!!!!!!! RT @ShenikaRoberts: The shit you...  "
      ]
     },
     "execution_count": 2,
     "metadata": {},
     "output_type": "execute_result"
    }
   ],
   "source": [
    "df = pd.read_csv('data/labeled_data.csv')\n",
    "df.head()"
   ]
  },
  {
   "cell_type": "code",
   "execution_count": 33,
   "metadata": {},
   "outputs": [],
   "source": [
    "import nltk\n",
    "\n",
    "STOP_WORDS = nltk.corpus.stopwords.words('english')\n",
    "\n",
    "def preprocess(tweet):\n",
    "    tweet = tf.keras.preprocessing.text.text_to_word_sequence(tweet)\n",
    "    tweet = ['' if t in STOP_WORDS else t for t in tweet]\n",
    "    return list(filter(None, tweet))"
   ]
  },
  {
   "cell_type": "code",
   "execution_count": 44,
   "metadata": {},
   "outputs": [],
   "source": [
    "tweets = df.tweet\n",
    "\n",
    "tweets_processed = [preprocess(t) for t in tweets]\n",
    "tweets_processed = [\" \".join(t) for t in tweets_processed]"
   ]
  },
  {
   "cell_type": "markdown",
   "metadata": {},
   "source": [
    "**I use sent2vec embedding (https://github.com/epfml/sent2vec)**"
   ]
  },
  {
   "cell_type": "code",
   "execution_count": 45,
   "metadata": {},
   "outputs": [],
   "source": [
    "import sent2vec\n",
    "\n",
    "model = sent2vec.Sent2vecModel()\n",
    "model.load_model('data/twitter_unigrams.bin') # sent2vec_twitter_unigrams 13GB (700dim, trained on english tweets)"
   ]
  },
  {
   "cell_type": "code",
   "execution_count": 85,
   "metadata": {},
   "outputs": [],
   "source": [
    "X = model.embed_sentences(tweets_processed)\n",
    "# X = tf.convert_to_tensor(X)\n",
    "y = df['class']\n",
    "# y = tf.one_hot(y, 3)"
   ]
  },
  {
   "cell_type": "code",
   "execution_count": 86,
   "metadata": {},
   "outputs": [
    {
     "data": {
      "text/plain": [
       "((24783, 700), (24783,))"
      ]
     },
     "execution_count": 86,
     "metadata": {},
     "output_type": "execute_result"
    }
   ],
   "source": [
    "X.shape, y.shape"
   ]
  },
  {
   "cell_type": "code",
   "execution_count": 87,
   "metadata": {},
   "outputs": [],
   "source": [
    "from sklearn.model_selection import train_test_split\n",
    "\n",
    "X_train, X_test, y_train, y_test = train_test_split(X, y, test_size=0.2, random_state=123)"
   ]
  },
  {
   "cell_type": "code",
   "execution_count": 88,
   "metadata": {},
   "outputs": [
    {
     "data": {
      "text/plain": [
       "(TensorShape([19826, 700]),\n",
       " TensorShape([4957, 700]),\n",
       " TensorShape([19826, 3]),\n",
       " TensorShape([4957, 3]))"
      ]
     },
     "execution_count": 88,
     "metadata": {},
     "output_type": "execute_result"
    }
   ],
   "source": [
    "X_train = tf.convert_to_tensor(X_train)\n",
    "X_test = tf.convert_to_tensor(X_test)\n",
    "\n",
    "y_train = tf.one_hot(y_train, 3)\n",
    "y_test = tf.one_hot(y_test, 3)\n",
    "\n",
    "X_train.shape, X_test.shape, y_train.shape, y_test.shape"
   ]
  },
  {
   "cell_type": "code",
   "execution_count": 89,
   "metadata": {},
   "outputs": [],
   "source": [
    "def build_model(input_shape):\n",
    "    return tf.keras.Sequential([\n",
    "            tf.keras.layers.Dense(512, activation='relu', input_shape=(input_shape,)),\n",
    "            tf.keras.layers.Dropout(0.3),\n",
    "            tf.keras.layers.Dense(256, activation='relu'),\n",
    "            tf.keras.layers.Dropout(0.3),\n",
    "            tf.keras.layers.Dense(128, activation='relu'),\n",
    "            tf.keras.layers.Dropout(0.3),\n",
    "            tf.keras.layers.Dense(64, activation='relu'),\n",
    "            tf.keras.layers.Dense(3, activation='softmax') # 3 classes\n",
    "        ])"
   ]
  },
  {
   "cell_type": "code",
   "execution_count": 90,
   "metadata": {},
   "outputs": [],
   "source": [
    "nn_model = build_model(X.shape[1])\n",
    "\n",
    "nn_model.compile(optimizer='adam', loss='categorical_crossentropy', metrics=['accuracy'])"
   ]
  },
  {
   "cell_type": "code",
   "execution_count": 91,
   "metadata": {},
   "outputs": [
    {
     "name": "stdout",
     "output_type": "stream",
     "text": [
      "Model: \"sequential_3\"\n",
      "_________________________________________________________________\n",
      "Layer (type)                 Output Shape              Param #   \n",
      "=================================================================\n",
      "dense_15 (Dense)             (None, 512)               358912    \n",
      "_________________________________________________________________\n",
      "dropout_9 (Dropout)          (None, 512)               0         \n",
      "_________________________________________________________________\n",
      "dense_16 (Dense)             (None, 256)               131328    \n",
      "_________________________________________________________________\n",
      "dropout_10 (Dropout)         (None, 256)               0         \n",
      "_________________________________________________________________\n",
      "dense_17 (Dense)             (None, 128)               32896     \n",
      "_________________________________________________________________\n",
      "dropout_11 (Dropout)         (None, 128)               0         \n",
      "_________________________________________________________________\n",
      "dense_18 (Dense)             (None, 64)                8256      \n",
      "_________________________________________________________________\n",
      "dense_19 (Dense)             (None, 3)                 195       \n",
      "=================================================================\n",
      "Total params: 531,587\n",
      "Trainable params: 531,587\n",
      "Non-trainable params: 0\n",
      "_________________________________________________________________\n"
     ]
    }
   ],
   "source": [
    "nn_model.summary()"
   ]
  },
  {
   "cell_type": "code",
   "execution_count": 92,
   "metadata": {},
   "outputs": [
    {
     "data": {
      "image/png": "[encoded data removed]",
      "text/plain": [
       "<IPython.core.display.Image object>"
      ]
     },
     "execution_count": 92,
     "metadata": {},
     "output_type": "execute_result"
    }
   ],
   "source": [
    "tf.keras.utils.plot_model(nn_model, show_shapes=True, show_layer_names=False, rankdir='LR')"
   ]
  },
  {
   "cell_type": "code",
   "execution_count": 93,
   "metadata": {},
   "outputs": [
    {
     "name": "stdout",
     "output_type": "stream",
     "text": [
      "Train on 19826 samples, validate on 4957 samples\n",
      "Epoch 1/20\n",
      "19826/19826 [==============================] - 3s 166us/sample - loss: 0.3471 - accuracy: 0.8763 - val_loss: 0.2712 - val_accuracy: 0.9048\n",
      "Epoch 2/20\n",
      "19826/19826 [==============================] - 2s 109us/sample - loss: 0.2585 - accuracy: 0.9075 - val_loss: 0.2677 - val_accuracy: 0.9066\n",
      "Epoch 3/20\n",
      "19826/19826 [==============================] - 2s 112us/sample - loss: 0.2267 - accuracy: 0.9161 - val_loss: 0.2744 - val_accuracy: 0.9066\n",
      "Epoch 4/20\n",
      "19826/19826 [==============================] - 2s 113us/sample - loss: 0.2026 - accuracy: 0.9241 - val_loss: 0.2850 - val_accuracy: 0.9042\n",
      "Epoch 5/20\n",
      "19826/19826 [==============================] - 4s 189us/sample - loss: 0.1663 - accuracy: 0.9363 - val_loss: 0.3430 - val_accuracy: 0.9007\n",
      "Epoch 6/20\n",
      "19826/19826 [==============================] - 3s 173us/sample - loss: 0.1504 - accuracy: 0.9407 - val_loss: 0.3424 - val_accuracy: 0.9022\n",
      "Epoch 7/20\n",
      "19826/19826 [==============================] - 4s 186us/sample - loss: 0.1264 - accuracy: 0.9509 - val_loss: 0.3910 - val_accuracy: 0.8941\n",
      "Epoch 8/20\n",
      "19826/19826 [==============================] - 4s 182us/sample - loss: 0.1124 - accuracy: 0.9554 - val_loss: 0.4001 - val_accuracy: 0.8979\n",
      "Epoch 9/20\n",
      "19826/19826 [==============================] - 4s 195us/sample - loss: 0.0914 - accuracy: 0.9653 - val_loss: 0.4736 - val_accuracy: 0.8981\n",
      "Epoch 10/20\n",
      "19826/19826 [==============================] - 5s 272us/sample - loss: 0.0772 - accuracy: 0.9701 - val_loss: 0.5258 - val_accuracy: 0.8999\n",
      "Epoch 11/20\n",
      "19826/19826 [==============================] - 4s 195us/sample - loss: 0.0720 - accuracy: 0.9726 - val_loss: 0.4999 - val_accuracy: 0.8967\n",
      "Epoch 12/20\n",
      "19826/19826 [==============================] - 4s 192us/sample - loss: 0.0600 - accuracy: 0.9763 - val_loss: 0.5260 - val_accuracy: 0.9003\n",
      "Epoch 13/20\n",
      "19826/19826 [==============================] - 4s 213us/sample - loss: 0.0573 - accuracy: 0.9782 - val_loss: 0.5939 - val_accuracy: 0.8975\n",
      "Epoch 14/20\n",
      "19826/19826 [==============================] - 4s 193us/sample - loss: 0.0550 - accuracy: 0.9807 - val_loss: 0.5067 - val_accuracy: 0.8951\n",
      "Epoch 15/20\n",
      "19826/19826 [==============================] - 5s 258us/sample - loss: 0.0435 - accuracy: 0.9848 - val_loss: 0.6105 - val_accuracy: 0.8899\n",
      "Epoch 16/20\n",
      "19826/19826 [==============================] - 4s 214us/sample - loss: 0.0448 - accuracy: 0.9834 - val_loss: 0.6627 - val_accuracy: 0.8985\n",
      "Epoch 17/20\n",
      "19826/19826 [==============================] - 4s 194us/sample - loss: 0.0428 - accuracy: 0.9845 - val_loss: 0.6732 - val_accuracy: 0.8989\n",
      "Epoch 18/20\n",
      "19826/19826 [==============================] - 4s 193us/sample - loss: 0.0372 - accuracy: 0.9864 - val_loss: 0.6371 - val_accuracy: 0.9014\n",
      "Epoch 19/20\n",
      "19826/19826 [==============================] - 5s 261us/sample - loss: 0.0387 - accuracy: 0.9852 - val_loss: 0.6599 - val_accuracy: 0.8967\n",
      "Epoch 20/20\n",
      "19826/19826 [==============================] - 5s 247us/sample - loss: 0.0411 - accuracy: 0.9856 - val_loss: 0.5662 - val_accuracy: 0.8945\n"
     ]
    },
    {
     "data": {
      "text/plain": [
       "<tensorflow.python.keras.callbacks.History at 0x7f35dfe81a10>"
      ]
     },
     "execution_count": 93,
     "metadata": {},
     "output_type": "execute_result"
    }
   ],
   "source": [
    "nn_model.fit(X_train,\n",
    "             y_train,\n",
    "             epochs=20,\n",
    "             batch_size=128,\n",
    "             validation_data=(X_test, y_test))"
   ]
  },
  {
   "cell_type": "code",
   "execution_count": 98,
   "metadata": {},
   "outputs": [],
   "source": [
    "import numpy as np\n",
    "\n",
    "y_preds = np.argmax(nn_model.predict(X_test), axis=1)"
   ]
  },
  {
   "cell_type": "code",
   "execution_count": 103,
   "metadata": {},
   "outputs": [
    {
     "name": "stdout",
     "output_type": "stream",
     "text": [
      "              precision    recall  f1-score   support\n",
      "\n",
      "           0       0.49      0.20      0.29       295\n",
      "           1       0.93      0.95      0.94      3814\n",
      "           2       0.81      0.90      0.85       848\n",
      "\n",
      "    accuracy                           0.89      4957\n",
      "   macro avg       0.74      0.68      0.69      4957\n",
      "weighted avg       0.88      0.89      0.88      4957\n",
      "\n"
     ]
    }
   ],
   "source": [
    "from sklearn.metrics import classification_report\n",
    "\n",
    "y_true = np.argmax(y_test, axis=1)\n",
    "print(classification_report(y_true, y_preds))"
   ]
  }
 ],
 "metadata": {
  "kernelspec": {
   "display_name": "Python 3",
   "language": "python",
   "name": "python3"
  },
  "language_info": {
   "codemirror_mode": {
    "name": "ipython",
    "version": 3
   },
   "file_extension": ".py",
   "mimetype": "text/x-python",
   "name": "python",
   "nbconvert_exporter": "python",
   "pygments_lexer": "ipython3",
   "version": "3.7.3"
  }
 },
 "nbformat": 4,
 "nbformat_minor": 4
}
